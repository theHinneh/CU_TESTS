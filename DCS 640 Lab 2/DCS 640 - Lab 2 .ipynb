{
 "cells": [
  {
   "cell_type": "code",
   "execution_count": 145,
   "id": "b72b581d",
   "metadata": {
    "pycharm": {
     "name": "#%%\n"
    }
   },
   "outputs": [],
   "source": [
    "import pandas as py"
   ]
  },
  {
   "cell_type": "markdown",
   "id": "c4e9cb77",
   "metadata": {
    "pycharm": {
     "name": "#%% md\n"
    }
   },
   "source": [
    "# Column Removal"
   ]
  },
  {
   "cell_type": "markdown",
   "id": "8674fac4",
   "metadata": {
    "pycharm": {
     "name": "#%% md\n"
    }
   },
   "source": [
    "1. Use the pandas read_csv function to read in BL-Flicker-Images-Book.csv as a dataframe with the variable name \"books\". \n",
    "2. Identify the command to view the first 5 lines of the data frame. \n",
    "3. When looking at the data, we have realized that there are a few columns that are not needed for our data analysis. Use the dataframe drop function to remove columns with the identifiers below:\n",
    "\n",
    "'Edition Statement'\n",
    "'Corporate Author'\n",
    "'Corporate Contributors'\n",
    "'Former owner'\n",
    "'Engraver'\n",
    "'Contributors'\n",
    "'Issuance type'\n",
    "'Shelfmarks'\n",
    "\n",
    "4. Take a look at the first 5 lines again to ensure that the coluumns are removed."
   ]
  },
  {
   "cell_type": "code",
   "execution_count": 132,
   "id": "24647749",
   "metadata": {
    "pycharm": {
     "name": "#%%\n"
    }
   },
   "outputs": [],
   "source": [
    "books = py.read_csv('BL-Flickr-Images-Book.csv')  # Read data as dataframe"
   ]
  },
  {
   "cell_type": "code",
   "execution_count": 133,
   "id": "6407965d",
   "metadata": {
    "pycharm": {
     "name": "#%%\n"
    }
   },
   "outputs": [
    {
     "data": {
      "text/plain": "   Identifier             Edition Statement      Place of Publication  \\\n0         206                           NaN                    London   \n1         216                           NaN  London; Virtue & Yorston   \n2         218                           NaN                    London   \n3         472                           NaN                    London   \n4         480  A new edition, revised, etc.                    London   \n\n  Date of Publication              Publisher  \\\n0         1879 [1878]       S. Tinsley & Co.   \n1                1868           Virtue & Co.   \n2                1869  Bradbury, Evans & Co.   \n3                1851          James Darling   \n4                1857   Wertheim & Macintosh   \n\n                                               Title     Author  \\\n0                  Walter Forbes. [A novel.] By A. A      A. A.   \n1  All for Greed. [A novel. The dedication signed...  A., A. A.   \n2  Love the Avenger. By the author of “All for Gr...  A., A. A.   \n3  Welsh Sketches, chiefly ecclesiastical, to the...  A., E. S.   \n4  [The World in which I live, and my place in it...  A., E. S.   \n\n                                   Contributors  Corporate Author  \\\n0                               FORBES, Walter.               NaN   \n1  BLAZE DE BURY, Marie Pauline Rose - Baroness               NaN   \n2  BLAZE DE BURY, Marie Pauline Rose - Baroness               NaN   \n3                   Appleyard, Ernest Silvanus.               NaN   \n4                           BROOME, John Henry.               NaN   \n\n   Corporate Contributors Former owner  Engraver Issuance type  \\\n0                     NaN          NaN       NaN   monographic   \n1                     NaN          NaN       NaN   monographic   \n2                     NaN          NaN       NaN   monographic   \n3                     NaN          NaN       NaN   monographic   \n4                     NaN          NaN       NaN   monographic   \n\n                                          Flickr URL  \\\n0  http://www.flickr.com/photos/britishlibrary/ta...   \n1  http://www.flickr.com/photos/britishlibrary/ta...   \n2  http://www.flickr.com/photos/britishlibrary/ta...   \n3  http://www.flickr.com/photos/britishlibrary/ta...   \n4  http://www.flickr.com/photos/britishlibrary/ta...   \n\n                            Shelfmarks  \n0    British Library HMNTS 12641.b.30.  \n1    British Library HMNTS 12626.cc.2.  \n2    British Library HMNTS 12625.dd.1.  \n3  British Library HMNTS 10369.bbb.15.  \n4     British Library HMNTS 9007.d.28.  ",
      "text/html": "<div>\n<style scoped>\n    .dataframe tbody tr th:only-of-type {\n        vertical-align: middle;\n    }\n\n    .dataframe tbody tr th {\n        vertical-align: top;\n    }\n\n    .dataframe thead th {\n        text-align: right;\n    }\n</style>\n<table border=\"1\" class=\"dataframe\">\n  <thead>\n    <tr style=\"text-align: right;\">\n      <th></th>\n      <th>Identifier</th>\n      <th>Edition Statement</th>\n      <th>Place of Publication</th>\n      <th>Date of Publication</th>\n      <th>Publisher</th>\n      <th>Title</th>\n      <th>Author</th>\n      <th>Contributors</th>\n      <th>Corporate Author</th>\n      <th>Corporate Contributors</th>\n      <th>Former owner</th>\n      <th>Engraver</th>\n      <th>Issuance type</th>\n      <th>Flickr URL</th>\n      <th>Shelfmarks</th>\n    </tr>\n  </thead>\n  <tbody>\n    <tr>\n      <th>0</th>\n      <td>206</td>\n      <td>NaN</td>\n      <td>London</td>\n      <td>1879 [1878]</td>\n      <td>S. Tinsley &amp; Co.</td>\n      <td>Walter Forbes. [A novel.] By A. A</td>\n      <td>A. A.</td>\n      <td>FORBES, Walter.</td>\n      <td>NaN</td>\n      <td>NaN</td>\n      <td>NaN</td>\n      <td>NaN</td>\n      <td>monographic</td>\n      <td>http://www.flickr.com/photos/britishlibrary/ta...</td>\n      <td>British Library HMNTS 12641.b.30.</td>\n    </tr>\n    <tr>\n      <th>1</th>\n      <td>216</td>\n      <td>NaN</td>\n      <td>London; Virtue &amp; Yorston</td>\n      <td>1868</td>\n      <td>Virtue &amp; Co.</td>\n      <td>All for Greed. [A novel. The dedication signed...</td>\n      <td>A., A. A.</td>\n      <td>BLAZE DE BURY, Marie Pauline Rose - Baroness</td>\n      <td>NaN</td>\n      <td>NaN</td>\n      <td>NaN</td>\n      <td>NaN</td>\n      <td>monographic</td>\n      <td>http://www.flickr.com/photos/britishlibrary/ta...</td>\n      <td>British Library HMNTS 12626.cc.2.</td>\n    </tr>\n    <tr>\n      <th>2</th>\n      <td>218</td>\n      <td>NaN</td>\n      <td>London</td>\n      <td>1869</td>\n      <td>Bradbury, Evans &amp; Co.</td>\n      <td>Love the Avenger. By the author of “All for Gr...</td>\n      <td>A., A. A.</td>\n      <td>BLAZE DE BURY, Marie Pauline Rose - Baroness</td>\n      <td>NaN</td>\n      <td>NaN</td>\n      <td>NaN</td>\n      <td>NaN</td>\n      <td>monographic</td>\n      <td>http://www.flickr.com/photos/britishlibrary/ta...</td>\n      <td>British Library HMNTS 12625.dd.1.</td>\n    </tr>\n    <tr>\n      <th>3</th>\n      <td>472</td>\n      <td>NaN</td>\n      <td>London</td>\n      <td>1851</td>\n      <td>James Darling</td>\n      <td>Welsh Sketches, chiefly ecclesiastical, to the...</td>\n      <td>A., E. S.</td>\n      <td>Appleyard, Ernest Silvanus.</td>\n      <td>NaN</td>\n      <td>NaN</td>\n      <td>NaN</td>\n      <td>NaN</td>\n      <td>monographic</td>\n      <td>http://www.flickr.com/photos/britishlibrary/ta...</td>\n      <td>British Library HMNTS 10369.bbb.15.</td>\n    </tr>\n    <tr>\n      <th>4</th>\n      <td>480</td>\n      <td>A new edition, revised, etc.</td>\n      <td>London</td>\n      <td>1857</td>\n      <td>Wertheim &amp; Macintosh</td>\n      <td>[The World in which I live, and my place in it...</td>\n      <td>A., E. S.</td>\n      <td>BROOME, John Henry.</td>\n      <td>NaN</td>\n      <td>NaN</td>\n      <td>NaN</td>\n      <td>NaN</td>\n      <td>monographic</td>\n      <td>http://www.flickr.com/photos/britishlibrary/ta...</td>\n      <td>British Library HMNTS 9007.d.28.</td>\n    </tr>\n  </tbody>\n</table>\n</div>"
     },
     "execution_count": 133,
     "metadata": {},
     "output_type": "execute_result"
    }
   ],
   "source": [
    "books.head()  # View first five rows of the dataframe"
   ]
  },
  {
   "cell_type": "code",
   "execution_count": 134,
   "id": "f33256be",
   "metadata": {
    "pycharm": {
     "name": "#%%\n"
    }
   },
   "outputs": [],
   "source": [
    "books = books.drop(\n",
    "    columns=['Edition Statement', 'Corporate Author', 'Corporate Contributors', 'Former owner', 'Engraver',\n",
    "             'Contributors', 'Issuance type', 'Shelfmarks'])  # Delete columns in a dataframe"
   ]
  },
  {
   "cell_type": "markdown",
   "id": "df6e0ee6",
   "metadata": {
    "pycharm": {
     "name": "#%% md\n"
    }
   },
   "source": [
    "## Changing the Index of a Dataframe"
   ]
  },
  {
   "cell_type": "markdown",
   "id": "370ee3c3",
   "metadata": {
    "pycharm": {
     "name": "#%% md\n"
    }
   },
   "source": [
    "A Pandas Index extends the functionality of NumPy arrays to allow for more versatile slicing and labeling. In many cases, it is helpful to use a uniquely valued identifying field of the data as its index.\n",
    "\n",
    "1. In the \"Identifier\" column, one would expect each entry to be unique. Find the function for dataframes that will let you know if all entries in the column are unique or not. \n",
    "\n",
    "2. Replace the existing index with the indices of the \"identifier\" column using the set_index function. Then view the first 5 lines, what is different?\n",
    "\n",
    "    3. We can access each recorod using the dataframe loc function for label based indexing. Please use the loc function to find record 209."
   ]
  },
  {
   "cell_type": "code",
   "execution_count": 135,
   "outputs": [
    {
     "data": {
      "text/plain": "1"
     },
     "execution_count": 135,
     "metadata": {},
     "output_type": "execute_result"
    }
   ],
   "source": [
    "# books['Identifier'].unique()\n",
    "uniqueness = books['Identifier'].value_counts()  # Returns a series of numbers\n",
    "max(uniqueness)  # If the max number in the series is 1, then the column contains unique values"
   ],
   "metadata": {
    "collapsed": false,
    "pycharm": {
     "name": "#%%\n"
    }
   }
  },
  {
   "cell_type": "code",
   "execution_count": 136,
   "outputs": [
    {
     "data": {
      "text/plain": "                Place of Publication Date of Publication  \\\nIdentifier                                                 \n206                           London         1879 [1878]   \n216         London; Virtue & Yorston                1868   \n218                           London                1869   \n472                           London                1851   \n480                           London                1857   \n...                              ...                 ...   \n4158088                       London                1838   \n4158128                        Derby            1831, 32   \n4159563                       London           [1806]-22   \n4159587          Newcastle upon Tyne                1834   \n4160339                       London             1834-43   \n\n                          Publisher  \\\nIdentifier                            \n206                S. Tinsley & Co.   \n216                    Virtue & Co.   \n218           Bradbury, Evans & Co.   \n472                   James Darling   \n480            Wertheim & Macintosh   \n...                             ...   \n4158088                         NaN   \n4158128             M. Mozley & Son   \n4159563     T. Cadell and W. Davies   \n4159587            Mackenzie & Dent   \n4160339                         NaN   \n\n                                                        Title  \\\nIdentifier                                                      \n206                         Walter Forbes. [A novel.] By A. A   \n216         All for Greed. [A novel. The dedication signed...   \n218         Love the Avenger. By the author of “All for Gr...   \n472         Welsh Sketches, chiefly ecclesiastical, to the...   \n480         [The World in which I live, and my place in it...   \n...                                                       ...   \n4158088     The Parochial History of Cornwall, founded on,...   \n4158128     The History and Gazetteer of the County of Der...   \n4159563     Magna Britannia; being a concise topographical...   \n4159587     An historical, topographical and descriptive v...   \n4160339     Collectanea Topographica et Genealogica. [Firs...   \n\n                                                       Author  \\\nIdentifier                                                      \n206                                                     A. A.   \n216                                                 A., A. A.   \n218                                                 A., A. A.   \n472                                                 A., E. S.   \n480                                                 A., E. S.   \n...                                                       ...   \n4158088                    GIDDY, afterwards GILBERT, Davies.   \n4158128                            GLOVER, Stephen - of Derby   \n4159563     LYSONS, Daniel - M.A., F.R.S., and LYSONS (Sam...   \n4159587                                 Mackenzie, E. (Eneas)   \n4160339                                                   NaN   \n\n                                                   Flickr URL  \nIdentifier                                                     \n206         http://www.flickr.com/photos/britishlibrary/ta...  \n216         http://www.flickr.com/photos/britishlibrary/ta...  \n218         http://www.flickr.com/photos/britishlibrary/ta...  \n472         http://www.flickr.com/photos/britishlibrary/ta...  \n480         http://www.flickr.com/photos/britishlibrary/ta...  \n...                                                       ...  \n4158088     http://www.flickr.com/photos/britishlibrary/ta...  \n4158128     http://www.flickr.com/photos/britishlibrary/ta...  \n4159563     http://www.flickr.com/photos/britishlibrary/ta...  \n4159587     http://www.flickr.com/photos/britishlibrary/ta...  \n4160339     http://www.flickr.com/photos/britishlibrary/ta...  \n\n[8287 rows x 6 columns]",
      "text/html": "<div>\n<style scoped>\n    .dataframe tbody tr th:only-of-type {\n        vertical-align: middle;\n    }\n\n    .dataframe tbody tr th {\n        vertical-align: top;\n    }\n\n    .dataframe thead th {\n        text-align: right;\n    }\n</style>\n<table border=\"1\" class=\"dataframe\">\n  <thead>\n    <tr style=\"text-align: right;\">\n      <th></th>\n      <th>Place of Publication</th>\n      <th>Date of Publication</th>\n      <th>Publisher</th>\n      <th>Title</th>\n      <th>Author</th>\n      <th>Flickr URL</th>\n    </tr>\n    <tr>\n      <th>Identifier</th>\n      <th></th>\n      <th></th>\n      <th></th>\n      <th></th>\n      <th></th>\n      <th></th>\n    </tr>\n  </thead>\n  <tbody>\n    <tr>\n      <th>206</th>\n      <td>London</td>\n      <td>1879 [1878]</td>\n      <td>S. Tinsley &amp; Co.</td>\n      <td>Walter Forbes. [A novel.] By A. A</td>\n      <td>A. A.</td>\n      <td>http://www.flickr.com/photos/britishlibrary/ta...</td>\n    </tr>\n    <tr>\n      <th>216</th>\n      <td>London; Virtue &amp; Yorston</td>\n      <td>1868</td>\n      <td>Virtue &amp; Co.</td>\n      <td>All for Greed. [A novel. The dedication signed...</td>\n      <td>A., A. A.</td>\n      <td>http://www.flickr.com/photos/britishlibrary/ta...</td>\n    </tr>\n    <tr>\n      <th>218</th>\n      <td>London</td>\n      <td>1869</td>\n      <td>Bradbury, Evans &amp; Co.</td>\n      <td>Love the Avenger. By the author of “All for Gr...</td>\n      <td>A., A. A.</td>\n      <td>http://www.flickr.com/photos/britishlibrary/ta...</td>\n    </tr>\n    <tr>\n      <th>472</th>\n      <td>London</td>\n      <td>1851</td>\n      <td>James Darling</td>\n      <td>Welsh Sketches, chiefly ecclesiastical, to the...</td>\n      <td>A., E. S.</td>\n      <td>http://www.flickr.com/photos/britishlibrary/ta...</td>\n    </tr>\n    <tr>\n      <th>480</th>\n      <td>London</td>\n      <td>1857</td>\n      <td>Wertheim &amp; Macintosh</td>\n      <td>[The World in which I live, and my place in it...</td>\n      <td>A., E. S.</td>\n      <td>http://www.flickr.com/photos/britishlibrary/ta...</td>\n    </tr>\n    <tr>\n      <th>...</th>\n      <td>...</td>\n      <td>...</td>\n      <td>...</td>\n      <td>...</td>\n      <td>...</td>\n      <td>...</td>\n    </tr>\n    <tr>\n      <th>4158088</th>\n      <td>London</td>\n      <td>1838</td>\n      <td>NaN</td>\n      <td>The Parochial History of Cornwall, founded on,...</td>\n      <td>GIDDY, afterwards GILBERT, Davies.</td>\n      <td>http://www.flickr.com/photos/britishlibrary/ta...</td>\n    </tr>\n    <tr>\n      <th>4158128</th>\n      <td>Derby</td>\n      <td>1831, 32</td>\n      <td>M. Mozley &amp; Son</td>\n      <td>The History and Gazetteer of the County of Der...</td>\n      <td>GLOVER, Stephen - of Derby</td>\n      <td>http://www.flickr.com/photos/britishlibrary/ta...</td>\n    </tr>\n    <tr>\n      <th>4159563</th>\n      <td>London</td>\n      <td>[1806]-22</td>\n      <td>T. Cadell and W. Davies</td>\n      <td>Magna Britannia; being a concise topographical...</td>\n      <td>LYSONS, Daniel - M.A., F.R.S., and LYSONS (Sam...</td>\n      <td>http://www.flickr.com/photos/britishlibrary/ta...</td>\n    </tr>\n    <tr>\n      <th>4159587</th>\n      <td>Newcastle upon Tyne</td>\n      <td>1834</td>\n      <td>Mackenzie &amp; Dent</td>\n      <td>An historical, topographical and descriptive v...</td>\n      <td>Mackenzie, E. (Eneas)</td>\n      <td>http://www.flickr.com/photos/britishlibrary/ta...</td>\n    </tr>\n    <tr>\n      <th>4160339</th>\n      <td>London</td>\n      <td>1834-43</td>\n      <td>NaN</td>\n      <td>Collectanea Topographica et Genealogica. [Firs...</td>\n      <td>NaN</td>\n      <td>http://www.flickr.com/photos/britishlibrary/ta...</td>\n    </tr>\n  </tbody>\n</table>\n<p>8287 rows × 6 columns</p>\n</div>"
     },
     "execution_count": 136,
     "metadata": {},
     "output_type": "execute_result"
    }
   ],
   "source": [
    "books.set_index('Identifier')"
   ],
   "metadata": {
    "collapsed": false,
    "pycharm": {
     "name": "#%%\n"
    }
   }
  },
  {
   "cell_type": "code",
   "execution_count": 137,
   "outputs": [
    {
     "data": {
      "text/plain": "   Identifier      Place of Publication Date of Publication  \\\n0         206                    London         1879 [1878]   \n1         216  London; Virtue & Yorston                1868   \n2         218                    London                1869   \n3         472                    London                1851   \n4         480                    London                1857   \n\n               Publisher                                              Title  \\\n0       S. Tinsley & Co.                  Walter Forbes. [A novel.] By A. A   \n1           Virtue & Co.  All for Greed. [A novel. The dedication signed...   \n2  Bradbury, Evans & Co.  Love the Avenger. By the author of “All for Gr...   \n3          James Darling  Welsh Sketches, chiefly ecclesiastical, to the...   \n4   Wertheim & Macintosh  [The World in which I live, and my place in it...   \n\n      Author                                         Flickr URL  \n0      A. A.  http://www.flickr.com/photos/britishlibrary/ta...  \n1  A., A. A.  http://www.flickr.com/photos/britishlibrary/ta...  \n2  A., A. A.  http://www.flickr.com/photos/britishlibrary/ta...  \n3  A., E. S.  http://www.flickr.com/photos/britishlibrary/ta...  \n4  A., E. S.  http://www.flickr.com/photos/britishlibrary/ta...  ",
      "text/html": "<div>\n<style scoped>\n    .dataframe tbody tr th:only-of-type {\n        vertical-align: middle;\n    }\n\n    .dataframe tbody tr th {\n        vertical-align: top;\n    }\n\n    .dataframe thead th {\n        text-align: right;\n    }\n</style>\n<table border=\"1\" class=\"dataframe\">\n  <thead>\n    <tr style=\"text-align: right;\">\n      <th></th>\n      <th>Identifier</th>\n      <th>Place of Publication</th>\n      <th>Date of Publication</th>\n      <th>Publisher</th>\n      <th>Title</th>\n      <th>Author</th>\n      <th>Flickr URL</th>\n    </tr>\n  </thead>\n  <tbody>\n    <tr>\n      <th>0</th>\n      <td>206</td>\n      <td>London</td>\n      <td>1879 [1878]</td>\n      <td>S. Tinsley &amp; Co.</td>\n      <td>Walter Forbes. [A novel.] By A. A</td>\n      <td>A. A.</td>\n      <td>http://www.flickr.com/photos/britishlibrary/ta...</td>\n    </tr>\n    <tr>\n      <th>1</th>\n      <td>216</td>\n      <td>London; Virtue &amp; Yorston</td>\n      <td>1868</td>\n      <td>Virtue &amp; Co.</td>\n      <td>All for Greed. [A novel. The dedication signed...</td>\n      <td>A., A. A.</td>\n      <td>http://www.flickr.com/photos/britishlibrary/ta...</td>\n    </tr>\n    <tr>\n      <th>2</th>\n      <td>218</td>\n      <td>London</td>\n      <td>1869</td>\n      <td>Bradbury, Evans &amp; Co.</td>\n      <td>Love the Avenger. By the author of “All for Gr...</td>\n      <td>A., A. A.</td>\n      <td>http://www.flickr.com/photos/britishlibrary/ta...</td>\n    </tr>\n    <tr>\n      <th>3</th>\n      <td>472</td>\n      <td>London</td>\n      <td>1851</td>\n      <td>James Darling</td>\n      <td>Welsh Sketches, chiefly ecclesiastical, to the...</td>\n      <td>A., E. S.</td>\n      <td>http://www.flickr.com/photos/britishlibrary/ta...</td>\n    </tr>\n    <tr>\n      <th>4</th>\n      <td>480</td>\n      <td>London</td>\n      <td>1857</td>\n      <td>Wertheim &amp; Macintosh</td>\n      <td>[The World in which I live, and my place in it...</td>\n      <td>A., E. S.</td>\n      <td>http://www.flickr.com/photos/britishlibrary/ta...</td>\n    </tr>\n  </tbody>\n</table>\n</div>"
     },
     "execution_count": 137,
     "metadata": {},
     "output_type": "execute_result"
    }
   ],
   "source": [
    "books.head()"
   ],
   "metadata": {
    "collapsed": false,
    "pycharm": {
     "name": "#%%\n"
    }
   }
  },
  {
   "cell_type": "markdown",
   "source": [
    "When index of the dataframe is replaced with the indices of the *Identifier* column, the default index column is dropped."
   ],
   "metadata": {
    "collapsed": false,
    "pycharm": {
     "name": "#%% md\n"
    }
   }
  },
  {
   "cell_type": "code",
   "execution_count": 138,
   "outputs": [
    {
     "data": {
      "text/plain": "Identifier                                                          78740\nPlace of Publication                                            Inverness\nDate of Publication                                                [1890]\nPublisher                                            “Northern Chronicle”\nTitle                   Handbook to the Highland Railway ... Season 18...\nAuthor                                    Anderson, George - of Inverness\nFlickr URL              http://www.flickr.com/photos/britishlibrary/ta...\nName: 209, dtype: object"
     },
     "execution_count": 138,
     "metadata": {},
     "output_type": "execute_result"
    }
   ],
   "source": [
    "books.loc[209]"
   ],
   "metadata": {
    "collapsed": false,
    "pycharm": {
     "name": "#%%\n"
    }
   }
  },
  {
   "cell_type": "markdown",
   "id": "fefc9357",
   "metadata": {
    "pycharm": {
     "name": "#%% md\n"
    }
   },
   "source": [
    "In this section, we will clean specific columns and get them to a uniform format to get a better understanding of the dataset and enforce consistency. In particular, we will be cleaning Date of Publication and Place of Publication."
   ]
  },
  {
   "cell_type": "markdown",
   "id": "76b94a3f",
   "metadata": {
    "pycharm": {
     "name": "#%% md\n"
    }
   },
   "source": [
    "1. Identify the type of data in each column. \n",
    "2. Determine what woud need to bedonet clean the 'Data of Publication' column. Use the regex function for dataframes to remove necessary characters then convert to numerical formats. "
   ]
  },
  {
   "cell_type": "markdown",
   "id": "8953a6d4",
   "metadata": {
    "pycharm": {
     "name": "#%% md\n"
    }
   },
   "source": [
    "1. Identify the type of data in each column. \n",
    "2. Determine what woud need to bedonet clean the 'Data of Publication' column. Use the regex function for dataframes to remove necessary characters then convert to numerical formats."
   ]
  },
  {
   "cell_type": "code",
   "execution_count": 139,
   "outputs": [
    {
     "data": {
      "text/plain": "Identifier               int64\nPlace of Publication    object\nDate of Publication     object\nPublisher               object\nTitle                   object\nAuthor                  object\nFlickr URL              object\ndtype: object"
     },
     "execution_count": 139,
     "metadata": {},
     "output_type": "execute_result"
    }
   ],
   "source": [
    "books.dtypes"
   ],
   "metadata": {
    "collapsed": false,
    "pycharm": {
     "name": "#%%\n"
    }
   }
  },
  {
   "cell_type": "code",
   "execution_count": 153,
   "outputs": [],
   "source": [
    "books['Date of Publication'] = books['Date of Publication'].replace(r'', '0')"
   ],
   "metadata": {
    "collapsed": false,
    "pycharm": {
     "name": "#%%\n"
    }
   }
  },
  {
   "cell_type": "code",
   "execution_count": 154,
   "outputs": [],
   "source": [
    "books['Date of Publication'] = books['Date of Publication'].str.extract('(^\\d*)')"
   ],
   "metadata": {
    "collapsed": false,
    "pycharm": {
     "name": "#%%\n"
    }
   }
  },
  {
   "cell_type": "code",
   "execution_count": 155,
   "outputs": [],
   "source": [
    "books['Date of Publication'] = books['Date of Publication'].fillna(0)"
   ],
   "metadata": {
    "collapsed": false,
    "pycharm": {
     "name": "#%%\n"
    }
   }
  },
  {
   "cell_type": "code",
   "execution_count": 156,
   "outputs": [
    {
     "data": {
      "text/plain": "      Identifier      Place of Publication  Date of Publication  \\\n0            206                    London                 1879   \n1            216  London; Virtue & Yorston                 1868   \n2            218                    London                 1869   \n3            472                    London                 1851   \n4            480                    London                 1857   \n...          ...                       ...                  ...   \n8282     4158088                    London                 1838   \n8283     4158128                     Derby                 1831   \n8284     4159563                    London                    0   \n8285     4159587       Newcastle upon Tyne                 1834   \n8286     4160339                    London                 1834   \n\n                    Publisher  \\\n0            S. Tinsley & Co.   \n1                Virtue & Co.   \n2       Bradbury, Evans & Co.   \n3               James Darling   \n4        Wertheim & Macintosh   \n...                       ...   \n8282                      NaN   \n8283          M. Mozley & Son   \n8284  T. Cadell and W. Davies   \n8285         Mackenzie & Dent   \n8286                      NaN   \n\n                                                  Title  \\\n0                     Walter Forbes. [A novel.] By A. A   \n1     All for Greed. [A novel. The dedication signed...   \n2     Love the Avenger. By the author of “All for Gr...   \n3     Welsh Sketches, chiefly ecclesiastical, to the...   \n4     [The World in which I live, and my place in it...   \n...                                                 ...   \n8282  The Parochial History of Cornwall, founded on,...   \n8283  The History and Gazetteer of the County of Der...   \n8284  Magna Britannia; being a concise topographical...   \n8285  An historical, topographical and descriptive v...   \n8286  Collectanea Topographica et Genealogica. [Firs...   \n\n                                                 Author  \\\n0                                                 A. A.   \n1                                             A., A. A.   \n2                                             A., A. A.   \n3                                             A., E. S.   \n4                                             A., E. S.   \n...                                                 ...   \n8282                 GIDDY, afterwards GILBERT, Davies.   \n8283                         GLOVER, Stephen - of Derby   \n8284  LYSONS, Daniel - M.A., F.R.S., and LYSONS (Sam...   \n8285                              Mackenzie, E. (Eneas)   \n8286                                                NaN   \n\n                                             Flickr URL  \n0     http://www.flickr.com/photos/britishlibrary/ta...  \n1     http://www.flickr.com/photos/britishlibrary/ta...  \n2     http://www.flickr.com/photos/britishlibrary/ta...  \n3     http://www.flickr.com/photos/britishlibrary/ta...  \n4     http://www.flickr.com/photos/britishlibrary/ta...  \n...                                                 ...  \n8282  http://www.flickr.com/photos/britishlibrary/ta...  \n8283  http://www.flickr.com/photos/britishlibrary/ta...  \n8284  http://www.flickr.com/photos/britishlibrary/ta...  \n8285  http://www.flickr.com/photos/britishlibrary/ta...  \n8286  http://www.flickr.com/photos/britishlibrary/ta...  \n\n[8287 rows x 7 columns]",
      "text/html": "<div>\n<style scoped>\n    .dataframe tbody tr th:only-of-type {\n        vertical-align: middle;\n    }\n\n    .dataframe tbody tr th {\n        vertical-align: top;\n    }\n\n    .dataframe thead th {\n        text-align: right;\n    }\n</style>\n<table border=\"1\" class=\"dataframe\">\n  <thead>\n    <tr style=\"text-align: right;\">\n      <th></th>\n      <th>Identifier</th>\n      <th>Place of Publication</th>\n      <th>Date of Publication</th>\n      <th>Publisher</th>\n      <th>Title</th>\n      <th>Author</th>\n      <th>Flickr URL</th>\n    </tr>\n  </thead>\n  <tbody>\n    <tr>\n      <th>0</th>\n      <td>206</td>\n      <td>London</td>\n      <td>1879</td>\n      <td>S. Tinsley &amp; Co.</td>\n      <td>Walter Forbes. [A novel.] By A. A</td>\n      <td>A. A.</td>\n      <td>http://www.flickr.com/photos/britishlibrary/ta...</td>\n    </tr>\n    <tr>\n      <th>1</th>\n      <td>216</td>\n      <td>London; Virtue &amp; Yorston</td>\n      <td>1868</td>\n      <td>Virtue &amp; Co.</td>\n      <td>All for Greed. [A novel. The dedication signed...</td>\n      <td>A., A. A.</td>\n      <td>http://www.flickr.com/photos/britishlibrary/ta...</td>\n    </tr>\n    <tr>\n      <th>2</th>\n      <td>218</td>\n      <td>London</td>\n      <td>1869</td>\n      <td>Bradbury, Evans &amp; Co.</td>\n      <td>Love the Avenger. By the author of “All for Gr...</td>\n      <td>A., A. A.</td>\n      <td>http://www.flickr.com/photos/britishlibrary/ta...</td>\n    </tr>\n    <tr>\n      <th>3</th>\n      <td>472</td>\n      <td>London</td>\n      <td>1851</td>\n      <td>James Darling</td>\n      <td>Welsh Sketches, chiefly ecclesiastical, to the...</td>\n      <td>A., E. S.</td>\n      <td>http://www.flickr.com/photos/britishlibrary/ta...</td>\n    </tr>\n    <tr>\n      <th>4</th>\n      <td>480</td>\n      <td>London</td>\n      <td>1857</td>\n      <td>Wertheim &amp; Macintosh</td>\n      <td>[The World in which I live, and my place in it...</td>\n      <td>A., E. S.</td>\n      <td>http://www.flickr.com/photos/britishlibrary/ta...</td>\n    </tr>\n    <tr>\n      <th>...</th>\n      <td>...</td>\n      <td>...</td>\n      <td>...</td>\n      <td>...</td>\n      <td>...</td>\n      <td>...</td>\n      <td>...</td>\n    </tr>\n    <tr>\n      <th>8282</th>\n      <td>4158088</td>\n      <td>London</td>\n      <td>1838</td>\n      <td>NaN</td>\n      <td>The Parochial History of Cornwall, founded on,...</td>\n      <td>GIDDY, afterwards GILBERT, Davies.</td>\n      <td>http://www.flickr.com/photos/britishlibrary/ta...</td>\n    </tr>\n    <tr>\n      <th>8283</th>\n      <td>4158128</td>\n      <td>Derby</td>\n      <td>1831</td>\n      <td>M. Mozley &amp; Son</td>\n      <td>The History and Gazetteer of the County of Der...</td>\n      <td>GLOVER, Stephen - of Derby</td>\n      <td>http://www.flickr.com/photos/britishlibrary/ta...</td>\n    </tr>\n    <tr>\n      <th>8284</th>\n      <td>4159563</td>\n      <td>London</td>\n      <td>0</td>\n      <td>T. Cadell and W. Davies</td>\n      <td>Magna Britannia; being a concise topographical...</td>\n      <td>LYSONS, Daniel - M.A., F.R.S., and LYSONS (Sam...</td>\n      <td>http://www.flickr.com/photos/britishlibrary/ta...</td>\n    </tr>\n    <tr>\n      <th>8285</th>\n      <td>4159587</td>\n      <td>Newcastle upon Tyne</td>\n      <td>1834</td>\n      <td>Mackenzie &amp; Dent</td>\n      <td>An historical, topographical and descriptive v...</td>\n      <td>Mackenzie, E. (Eneas)</td>\n      <td>http://www.flickr.com/photos/britishlibrary/ta...</td>\n    </tr>\n    <tr>\n      <th>8286</th>\n      <td>4160339</td>\n      <td>London</td>\n      <td>1834</td>\n      <td>NaN</td>\n      <td>Collectanea Topographica et Genealogica. [Firs...</td>\n      <td>NaN</td>\n      <td>http://www.flickr.com/photos/britishlibrary/ta...</td>\n    </tr>\n  </tbody>\n</table>\n<p>8287 rows × 7 columns</p>\n</div>"
     },
     "execution_count": 156,
     "metadata": {},
     "output_type": "execute_result"
    }
   ],
   "source": [
    "books = books.astype({'Date of Publication': 'int'})\n",
    "books"
   ],
   "metadata": {
    "collapsed": false,
    "pycharm": {
     "name": "#%%\n"
    }
   }
  },
  {
   "cell_type": "markdown",
   "id": "d897a854",
   "metadata": {
    "pycharm": {
     "name": "#%% md\n"
    }
   },
   "source": [
    "There are some instances where it would be helpful to apply a customized function to each cell or element of a DataFrame. Pandas .applymap() method is similar to the in-built map() function and simply applies a function to all the elements in a DataFrame."
   ]
  },
  {
   "cell_type": "markdown",
   "id": "d7e69b0e",
   "metadata": {
    "pycharm": {
     "name": "#%% md\n"
    }
   },
   "source": [
    "1. Use the head function to take a look at university_towns.txt. \n",
    "2. Create a with statement with an embeadded for lop and if/else statement such that when you run university_towns[:5] you get:\n",
    "\n",
    "\n",
    "[('Alabama[edit]\\n', 'Auburn (Auburn University)[1]\\n'),\n",
    " ('Alabama[edit]\\n', 'Florence (University of North Alabama)\\n'),\n",
    " ('Alabama[edit]\\n', 'Jacksonville (Jacksonville State University)[2]\\n'),\n",
    " ('Alabama[edit]\\n', 'Livingston (University of West Alabama)[2]\\n'),\n",
    " ('Alabama[edit]\\n', 'Montevallo (University of Montevallo)[2]\\n')]\n",
    " \n",
    " 3. Convert to a dataframe for which the column names are \"State\" and \"RegionName\". Name the new dataframe uni_df.\n",
    " \n",
    " 4. Run the block of code below. Exaplain what it does. "
   ]
  },
  {
   "cell_type": "markdown",
   "id": "b3a12241",
   "metadata": {
    "pycharm": {
     "name": "#%% md\n"
    }
   },
   "source": [
    "1. Use the head function to take a look at university_towns.txt. \n",
    "2. Create a with statement with an embeadded for lop and if/else statement such that when you run university_towns[:5] you get:\n",
    "\n",
    "\n",
    "[('Alabama[edit]\\n', 'Auburn (Auburn University)[1]\\n'),\n",
    " ('Alabama[edit]\\n', 'Florence (University of North Alabama)\\n'),\n",
    " ('Alabama[edit]\\n', 'Jacksonville (Jacksonville State University)[2]\\n'),\n",
    " ('Alabama[edit]\\n', 'Livingston (University of West Alabama)[2]\\n'),\n",
    " ('Alabama[edit]\\n', 'Montevallo (University of Montevallo)[2]\\n')]\n",
    " \n",
    " 3. Convert to a dataframe for which the column names are \"State\" and \"RegionName\". Name the new dataframe uni_df.\n",
    " \n",
    " 4. Run the block of code below. Exaplain what it does."
   ]
  },
  {
   "cell_type": "code",
   "execution_count": 245,
   "outputs": [
    {
     "data": {
      "text/plain": "                                     Alabama[edit]\n0                    Auburn (Auburn University)[1]\n1           Florence (University of North Alabama)\n2  Jacksonville (Jacksonville State University)[2]\n3       Livingston (University of West Alabama)[2]\n4         Montevallo (University of Montevallo)[2]",
      "text/html": "<div>\n<style scoped>\n    .dataframe tbody tr th:only-of-type {\n        vertical-align: middle;\n    }\n\n    .dataframe tbody tr th {\n        vertical-align: top;\n    }\n\n    .dataframe thead th {\n        text-align: right;\n    }\n</style>\n<table border=\"1\" class=\"dataframe\">\n  <thead>\n    <tr style=\"text-align: right;\">\n      <th></th>\n      <th>Alabama[edit]</th>\n    </tr>\n  </thead>\n  <tbody>\n    <tr>\n      <th>0</th>\n      <td>Auburn (Auburn University)[1]</td>\n    </tr>\n    <tr>\n      <th>1</th>\n      <td>Florence (University of North Alabama)</td>\n    </tr>\n    <tr>\n      <th>2</th>\n      <td>Jacksonville (Jacksonville State University)[2]</td>\n    </tr>\n    <tr>\n      <th>3</th>\n      <td>Livingston (University of West Alabama)[2]</td>\n    </tr>\n    <tr>\n      <th>4</th>\n      <td>Montevallo (University of Montevallo)[2]</td>\n    </tr>\n  </tbody>\n</table>\n</div>"
     },
     "execution_count": 245,
     "metadata": {},
     "output_type": "execute_result"
    }
   ],
   "source": [
    "university_towns = py.read_csv('university_towns.txt', sep=\"\\\\t\", engine='python')\n",
    "university_towns.head()"
   ],
   "metadata": {
    "collapsed": false,
    "pycharm": {
     "name": "#%%\n"
    }
   }
  },
  {
   "cell_type": "code",
   "execution_count": 246,
   "outputs": [],
   "source": [
    "# with open('university_towns.txt', 'r') as file:\n",
    "#     for index, data in enumerate(file):\n",
    "#         if data != 'Alabama[edit]\\n':\n",
    "#             university_towns = university_towns.applymap(\n",
    "#                 lambda x: ('Alabama[edit]\\n', '{}\\n'.format(x)) if str(x).strip() == str(data).strip() else x)\n",
    "#             # print(str(data).strip())\n",
    "#             # print('Alabama[edit]\\t{}'.format(data), university_towns.loc[index])\n",
    "#             # university_towns = university_towns.applymap(\n",
    "#             # lambda x: ('Alabama[edit]\\n', '{}'.format(x)) if x == 'Alabama[edit]\\t{}'.format(data) else x)\n",
    "# university_towns[:5]"
   ],
   "metadata": {
    "collapsed": false,
    "pycharm": {
     "name": "#%%\n"
    }
   }
  },
  {
   "cell_type": "code",
   "execution_count": 247,
   "outputs": [
    {
     "data": {
      "text/plain": "           State                                       RegionName\n0  Alabama[edit]                    Auburn (Auburn University)[1]\n1  Alabama[edit]           Florence (University of North Alabama)\n2  Alabama[edit]  Jacksonville (Jacksonville State University)[2]\n3  Alabama[edit]       Livingston (University of West Alabama)[2]\n4  Alabama[edit]         Montevallo (University of Montevallo)[2]",
      "text/html": "<div>\n<style scoped>\n    .dataframe tbody tr th:only-of-type {\n        vertical-align: middle;\n    }\n\n    .dataframe tbody tr th {\n        vertical-align: top;\n    }\n\n    .dataframe thead th {\n        text-align: right;\n    }\n</style>\n<table border=\"1\" class=\"dataframe\">\n  <thead>\n    <tr style=\"text-align: right;\">\n      <th></th>\n      <th>State</th>\n      <th>RegionName</th>\n    </tr>\n  </thead>\n  <tbody>\n    <tr>\n      <th>0</th>\n      <td>Alabama[edit]</td>\n      <td>Auburn (Auburn University)[1]</td>\n    </tr>\n    <tr>\n      <th>1</th>\n      <td>Alabama[edit]</td>\n      <td>Florence (University of North Alabama)</td>\n    </tr>\n    <tr>\n      <th>2</th>\n      <td>Alabama[edit]</td>\n      <td>Jacksonville (Jacksonville State University)[2]</td>\n    </tr>\n    <tr>\n      <th>3</th>\n      <td>Alabama[edit]</td>\n      <td>Livingston (University of West Alabama)[2]</td>\n    </tr>\n    <tr>\n      <th>4</th>\n      <td>Alabama[edit]</td>\n      <td>Montevallo (University of Montevallo)[2]</td>\n    </tr>\n  </tbody>\n</table>\n</div>"
     },
     "execution_count": 247,
     "metadata": {},
     "output_type": "execute_result"
    }
   ],
   "source": [
    "uni_df = py.melt(university_towns, var_name='State', value_name='RegionName')\n",
    "uni_df.head()"
   ],
   "metadata": {
    "collapsed": false,
    "pycharm": {
     "name": "#%%\n"
    }
   }
  },
  {
   "cell_type": "code",
   "id": "931c51e7",
   "metadata": {
    "pycharm": {
     "name": "#%%\n"
    }
   },
   "source": [
    "def get_citystate(item):\n",
    "    if ' (' in item:\n",
    "        return item[:item.find(' (')]\n",
    "    elif '[' in item:\n",
    "        return item[:item.find('[')]\n",
    "    else:\n",
    "        return item"
   ],
   "execution_count": 248,
   "outputs": []
  },
  {
   "cell_type": "markdown",
   "source": [
    "The function above tries to clean the region names by removing all text withing a bracket and a square bracket."
   ],
   "metadata": {
    "collapsed": false,
    "pycharm": {
     "name": "#%% md\n"
    }
   }
  },
  {
   "cell_type": "markdown",
   "id": "32f0744d",
   "metadata": {
    "pycharm": {
     "name": "#%% md\n"
    }
   },
   "source": [
    "1. Apply get_citystate to uni_df using applymap. \n",
    "2. View the head of the new uni_df."
   ]
  },
  {
   "cell_type": "code",
   "execution_count": 251,
   "outputs": [],
   "source": [
    "uni_df = uni_df.applymap(lambda x: get_citystate(x))"
   ],
   "metadata": {
    "collapsed": false,
    "pycharm": {
     "name": "#%%\n"
    }
   }
  },
  {
   "cell_type": "code",
   "execution_count": 252,
   "outputs": [
    {
     "data": {
      "text/plain": "     State    RegionName\n0  Alabama        Auburn\n1  Alabama      Florence\n2  Alabama  Jacksonville\n3  Alabama    Livingston\n4  Alabama    Montevallo",
      "text/html": "<div>\n<style scoped>\n    .dataframe tbody tr th:only-of-type {\n        vertical-align: middle;\n    }\n\n    .dataframe tbody tr th {\n        vertical-align: top;\n    }\n\n    .dataframe thead th {\n        text-align: right;\n    }\n</style>\n<table border=\"1\" class=\"dataframe\">\n  <thead>\n    <tr style=\"text-align: right;\">\n      <th></th>\n      <th>State</th>\n      <th>RegionName</th>\n    </tr>\n  </thead>\n  <tbody>\n    <tr>\n      <th>0</th>\n      <td>Alabama</td>\n      <td>Auburn</td>\n    </tr>\n    <tr>\n      <th>1</th>\n      <td>Alabama</td>\n      <td>Florence</td>\n    </tr>\n    <tr>\n      <th>2</th>\n      <td>Alabama</td>\n      <td>Jacksonville</td>\n    </tr>\n    <tr>\n      <th>3</th>\n      <td>Alabama</td>\n      <td>Livingston</td>\n    </tr>\n    <tr>\n      <th>4</th>\n      <td>Alabama</td>\n      <td>Montevallo</td>\n    </tr>\n  </tbody>\n</table>\n</div>"
     },
     "execution_count": 252,
     "metadata": {},
     "output_type": "execute_result"
    }
   ],
   "source": [
    "uni_df.head()"
   ],
   "metadata": {
    "collapsed": false,
    "pycharm": {
     "name": "#%%\n"
    }
   }
  },
  {
   "cell_type": "markdown",
   "id": "0d16f2a5",
   "metadata": {
    "pycharm": {
     "name": "#%% md\n"
    }
   },
   "source": [
    "Often, the datasets you’ll work with will have either column names that are not easy to understand, or unimportant information in the first few and/or last rows, such as definitions of the terms in the dataset, or footnotes."
   ]
  },
  {
   "cell_type": "markdown",
   "id": "ffc2c7c9",
   "metadata": {
    "pycharm": {
     "name": "#%% md\n"
    }
   },
   "source": [
    "1. Read in olympics.csv using pandas. \n",
    "2. View the first 5 lines of the data. \n",
    "3. Go to https://en.wikipedia.org/wiki/All-time_Olympic_Games_medal_table to view the source of the data. What should the data look like?\n",
    "4. Run the block of code below to create the new name dictionary. "
   ]
  },
  {
   "cell_type": "markdown",
   "id": "0497ecd0",
   "metadata": {
    "pycharm": {
     "name": "#%% md\n"
    }
   },
   "source": [
    "1. Read in olympics.csv using pandas. \n",
    "2. View the first 5 lines of the data. \n",
    "3. Go to https://en.wikipedia.org/wiki/All-time_Olympic_Games_medal_table to view the source of the data. What should the data look like?\n",
    "4. Run the block of code below to create the new name dictionary."
   ]
  },
  {
   "cell_type": "code",
   "execution_count": 281,
   "outputs": [
    {
     "data": {
      "text/plain": "                Unnamed: 0  ? Summer  01 !  02 !  03 !  Total  ? Winter  \\\n0        Afghanistan (AFG)        13     0     0     2      2         0   \n1            Algeria (ALG)        12     5     2     8     15         3   \n2          Argentina (ARG)        23    18    24    28     70        18   \n3            Armenia (ARM)         5     1     2     9     12         6   \n4  Australasia (ANZ) [ANZ]         2     3     4     5     12         0   \n\n   01 !.1  02 !.1  03 !.1  Total.1  ? Games  01 !.2  02 !.2  03 !.2  \\\n0       0       0       0        0       13       0       0       2   \n1       0       0       0        0       15       5       2       8   \n2       0       0       0        0       41      18      24      28   \n3       0       0       0        0       11       1       2       9   \n4       0       0       0        0        2       3       4       5   \n\n   Combined total  \n0               2  \n1              15  \n2              70  \n3              12  \n4              12  ",
      "text/html": "<div>\n<style scoped>\n    .dataframe tbody tr th:only-of-type {\n        vertical-align: middle;\n    }\n\n    .dataframe tbody tr th {\n        vertical-align: top;\n    }\n\n    .dataframe thead th {\n        text-align: right;\n    }\n</style>\n<table border=\"1\" class=\"dataframe\">\n  <thead>\n    <tr style=\"text-align: right;\">\n      <th></th>\n      <th>Unnamed: 0</th>\n      <th>? Summer</th>\n      <th>01 !</th>\n      <th>02 !</th>\n      <th>03 !</th>\n      <th>Total</th>\n      <th>? Winter</th>\n      <th>01 !.1</th>\n      <th>02 !.1</th>\n      <th>03 !.1</th>\n      <th>Total.1</th>\n      <th>? Games</th>\n      <th>01 !.2</th>\n      <th>02 !.2</th>\n      <th>03 !.2</th>\n      <th>Combined total</th>\n    </tr>\n  </thead>\n  <tbody>\n    <tr>\n      <th>0</th>\n      <td>Afghanistan (AFG)</td>\n      <td>13</td>\n      <td>0</td>\n      <td>0</td>\n      <td>2</td>\n      <td>2</td>\n      <td>0</td>\n      <td>0</td>\n      <td>0</td>\n      <td>0</td>\n      <td>0</td>\n      <td>13</td>\n      <td>0</td>\n      <td>0</td>\n      <td>2</td>\n      <td>2</td>\n    </tr>\n    <tr>\n      <th>1</th>\n      <td>Algeria (ALG)</td>\n      <td>12</td>\n      <td>5</td>\n      <td>2</td>\n      <td>8</td>\n      <td>15</td>\n      <td>3</td>\n      <td>0</td>\n      <td>0</td>\n      <td>0</td>\n      <td>0</td>\n      <td>15</td>\n      <td>5</td>\n      <td>2</td>\n      <td>8</td>\n      <td>15</td>\n    </tr>\n    <tr>\n      <th>2</th>\n      <td>Argentina (ARG)</td>\n      <td>23</td>\n      <td>18</td>\n      <td>24</td>\n      <td>28</td>\n      <td>70</td>\n      <td>18</td>\n      <td>0</td>\n      <td>0</td>\n      <td>0</td>\n      <td>0</td>\n      <td>41</td>\n      <td>18</td>\n      <td>24</td>\n      <td>28</td>\n      <td>70</td>\n    </tr>\n    <tr>\n      <th>3</th>\n      <td>Armenia (ARM)</td>\n      <td>5</td>\n      <td>1</td>\n      <td>2</td>\n      <td>9</td>\n      <td>12</td>\n      <td>6</td>\n      <td>0</td>\n      <td>0</td>\n      <td>0</td>\n      <td>0</td>\n      <td>11</td>\n      <td>1</td>\n      <td>2</td>\n      <td>9</td>\n      <td>12</td>\n    </tr>\n    <tr>\n      <th>4</th>\n      <td>Australasia (ANZ) [ANZ]</td>\n      <td>2</td>\n      <td>3</td>\n      <td>4</td>\n      <td>5</td>\n      <td>12</td>\n      <td>0</td>\n      <td>0</td>\n      <td>0</td>\n      <td>0</td>\n      <td>0</td>\n      <td>2</td>\n      <td>3</td>\n      <td>4</td>\n      <td>5</td>\n      <td>12</td>\n    </tr>\n  </tbody>\n</table>\n</div>"
     },
     "execution_count": 281,
     "metadata": {},
     "output_type": "execute_result"
    }
   ],
   "source": [
    "olympics = py.read_csv('olympics.csv')\n",
    "olympics.head()"
   ],
   "metadata": {
    "collapsed": false,
    "pycharm": {
     "name": "#%%\n"
    }
   }
  },
  {
   "cell_type": "code",
   "id": "dee4cb49",
   "metadata": {
    "pycharm": {
     "name": "#%%\n"
    }
   },
   "source": [
    "new_names = {'Unnamed: 0': 'Country', '? Summer': 'Summer Olympics', '01 !': 'Gold','02 !': 'Silver','03 !': 'Bronze','? Winter': 'Winter Olympics','01 !.1': 'Gold.1','02 !.1': 'Silver.1','03 !.1': 'Bronze.1','? Games': '# Games','01 !.2': 'Gold.2','02 !.2': 'Silver.2','03 !.2': 'Bronze.2'}"
   ],
   "execution_count": 282,
   "outputs": []
  },
  {
   "cell_type": "code",
   "execution_count": 283,
   "id": "7574ae24",
   "metadata": {
    "pycharm": {
     "name": "#%%\n"
    }
   },
   "outputs": [
    {
     "ename": "SyntaxError",
     "evalue": "invalid syntax (915103841.py, line 1)",
     "output_type": "error",
     "traceback": [
      "\u001B[1;36m  Input \u001B[1;32mIn [283]\u001B[1;36m\u001B[0m\n\u001B[1;33m    5. Use the rename function to rename all columns.\u001B[0m\n\u001B[1;37m       ^\u001B[0m\n\u001B[1;31mSyntaxError\u001B[0m\u001B[1;31m:\u001B[0m invalid syntax\n"
     ]
    }
   ],
   "source": []
  },
  {
   "cell_type": "code",
   "execution_count": 284,
   "outputs": [],
   "source": [
    "olympics.rename(columns=new_names, inplace=True)"
   ],
   "metadata": {
    "collapsed": false,
    "pycharm": {
     "name": "#%%\n"
    }
   }
  },
  {
   "cell_type": "code",
   "execution_count": 285,
   "outputs": [
    {
     "data": {
      "text/plain": "                   Country  Summer Olympics  Gold  Silver  Bronze  Total  \\\n0        Afghanistan (AFG)               13     0       0       2      2   \n1            Algeria (ALG)               12     5       2       8     15   \n2          Argentina (ARG)               23    18      24      28     70   \n3            Armenia (ARM)                5     1       2       9     12   \n4  Australasia (ANZ) [ANZ]                2     3       4       5     12   \n\n   Winter Olympics  Gold.1  Silver.1  Bronze.1  Total.1  # Games  Gold.2  \\\n0                0       0         0         0        0       13       0   \n1                3       0         0         0        0       15       5   \n2               18       0         0         0        0       41      18   \n3                6       0         0         0        0       11       1   \n4                0       0         0         0        0        2       3   \n\n   Silver.2  Bronze.2  Combined total  \n0         0         2               2  \n1         2         8              15  \n2        24        28              70  \n3         2         9              12  \n4         4         5              12  ",
      "text/html": "<div>\n<style scoped>\n    .dataframe tbody tr th:only-of-type {\n        vertical-align: middle;\n    }\n\n    .dataframe tbody tr th {\n        vertical-align: top;\n    }\n\n    .dataframe thead th {\n        text-align: right;\n    }\n</style>\n<table border=\"1\" class=\"dataframe\">\n  <thead>\n    <tr style=\"text-align: right;\">\n      <th></th>\n      <th>Country</th>\n      <th>Summer Olympics</th>\n      <th>Gold</th>\n      <th>Silver</th>\n      <th>Bronze</th>\n      <th>Total</th>\n      <th>Winter Olympics</th>\n      <th>Gold.1</th>\n      <th>Silver.1</th>\n      <th>Bronze.1</th>\n      <th>Total.1</th>\n      <th># Games</th>\n      <th>Gold.2</th>\n      <th>Silver.2</th>\n      <th>Bronze.2</th>\n      <th>Combined total</th>\n    </tr>\n  </thead>\n  <tbody>\n    <tr>\n      <th>0</th>\n      <td>Afghanistan (AFG)</td>\n      <td>13</td>\n      <td>0</td>\n      <td>0</td>\n      <td>2</td>\n      <td>2</td>\n      <td>0</td>\n      <td>0</td>\n      <td>0</td>\n      <td>0</td>\n      <td>0</td>\n      <td>13</td>\n      <td>0</td>\n      <td>0</td>\n      <td>2</td>\n      <td>2</td>\n    </tr>\n    <tr>\n      <th>1</th>\n      <td>Algeria (ALG)</td>\n      <td>12</td>\n      <td>5</td>\n      <td>2</td>\n      <td>8</td>\n      <td>15</td>\n      <td>3</td>\n      <td>0</td>\n      <td>0</td>\n      <td>0</td>\n      <td>0</td>\n      <td>15</td>\n      <td>5</td>\n      <td>2</td>\n      <td>8</td>\n      <td>15</td>\n    </tr>\n    <tr>\n      <th>2</th>\n      <td>Argentina (ARG)</td>\n      <td>23</td>\n      <td>18</td>\n      <td>24</td>\n      <td>28</td>\n      <td>70</td>\n      <td>18</td>\n      <td>0</td>\n      <td>0</td>\n      <td>0</td>\n      <td>0</td>\n      <td>41</td>\n      <td>18</td>\n      <td>24</td>\n      <td>28</td>\n      <td>70</td>\n    </tr>\n    <tr>\n      <th>3</th>\n      <td>Armenia (ARM)</td>\n      <td>5</td>\n      <td>1</td>\n      <td>2</td>\n      <td>9</td>\n      <td>12</td>\n      <td>6</td>\n      <td>0</td>\n      <td>0</td>\n      <td>0</td>\n      <td>0</td>\n      <td>11</td>\n      <td>1</td>\n      <td>2</td>\n      <td>9</td>\n      <td>12</td>\n    </tr>\n    <tr>\n      <th>4</th>\n      <td>Australasia (ANZ) [ANZ]</td>\n      <td>2</td>\n      <td>3</td>\n      <td>4</td>\n      <td>5</td>\n      <td>12</td>\n      <td>0</td>\n      <td>0</td>\n      <td>0</td>\n      <td>0</td>\n      <td>0</td>\n      <td>2</td>\n      <td>3</td>\n      <td>4</td>\n      <td>5</td>\n      <td>12</td>\n    </tr>\n  </tbody>\n</table>\n</div>"
     },
     "execution_count": 285,
     "metadata": {},
     "output_type": "execute_result"
    }
   ],
   "source": [],
   "metadata": {
    "collapsed": false,
    "pycharm": {
     "name": "#%%\n"
    }
   }
  }
 ],
 "metadata": {
  "kernelspec": {
   "display_name": "Python 3 (ipykernel)",
   "language": "python",
   "name": "python3"
  },
  "language_info": {
   "codemirror_mode": {
    "name": "ipython",
    "version": 3
   },
   "file_extension": ".py",
   "mimetype": "text/x-python",
   "name": "python",
   "nbconvert_exporter": "python",
   "pygments_lexer": "ipython3",
   "version": "3.10.6"
  }
 },
 "nbformat": 4,
 "nbformat_minor": 5
}