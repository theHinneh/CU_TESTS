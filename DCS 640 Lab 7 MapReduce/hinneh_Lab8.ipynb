{
 "nbformat": 4,
 "nbformat_minor": 0,
 "metadata": {
  "colab": {
   "provenance": []
  },
  "kernelspec": {
   "name": "python3",
   "display_name": "Python 3"
  },
  "language_info": {
   "name": "python"
  }
 },
 "cells": [
  {
   "cell_type": "markdown",
   "source": [
    "#**MapReduce**\n",
    "MapReduce is a framework that is used to process big data on parallel clusters of hardware in an efficient manner.\n",
    "\n",
    "As the name suggests, MapReduce consists of two stages –\n",
    "\n",
    "1. Map stage:\n",
    "In the Map stage, the mapper job processes the input data. This input data is stored on Hadoop File System (HDFS). The mapper function basically ‘maps’ the input file line-by-line and process small chunks of the data.\n",
    "\n",
    "2. Reduce stage:\n",
    "The Reduce stage is a combination of shuffling and reducing. The output of the map stage becomes the input of the reduce stage. The output of the Reduce stage is the final output stored on HDFS.![8688102.png](data:image/png;base64,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)"
   ],
   "metadata": {
    "id": "OkVU8qHxdlRO"
   }
  },
  {
   "cell_type": "markdown",
   "source": [
    "Python has a built-in `map` function. The `map`(func, seq) Python function applies the function func to all the elements of the sequence seq. It returns a new list with the elements changed by func. "
   ],
   "metadata": {
    "id": "GKA0Jscrd-YY"
   }
  },
  {
   "cell_type": "code",
   "execution_count": 6,
   "metadata": {
    "colab": {
     "base_uri": "https://localhost:8080/"
    },
    "id": "paHofqzZdeI-",
    "outputId": "fd457fec-ca50-4e64-c5aa-7d4171761d81"
   },
   "outputs": [
    {
     "data": {
      "text/plain": "<map at 0x2b51354e770>"
     },
     "execution_count": 6,
     "metadata": {},
     "output_type": "execute_result"
    }
   ],
   "source": [
    "def f(x):\n",
    "    return x * x\n",
    "\n",
    "\n",
    "rdd = [2, 6, -3, 7]\n",
    "res = map(f, rdd)\n",
    "res  # Res is an iterator"
   ]
  },
  {
   "cell_type": "code",
   "source": [
    "print(*res)"
   ],
   "metadata": {
    "colab": {
     "base_uri": "https://localhost:8080/"
    },
    "id": "bDoV-daLdk6V",
    "outputId": "47d3abff-77a8-4bc7-f1d7-db10e0e705dc"
   },
   "execution_count": 7,
   "outputs": [
    {
     "name": "stdout",
     "output_type": "stream",
     "text": [
      "4 36 9 49\n"
     ]
    }
   ]
  },
  {
   "cell_type": "code",
   "source": [
    "from operator import mul\n",
    "\n",
    "rdd1, rdd2 = [2, 6, -3, 7], [1, -4, 5, 3]\n",
    "res = map(mul, rdd1, rdd2)  # element wise sum of rdd1 and rdd2"
   ],
   "metadata": {
    "id": "YW6Gd4fFeufA"
   },
   "execution_count": 8,
   "outputs": []
  },
  {
   "cell_type": "code",
   "source": [
    "print(*res)"
   ],
   "metadata": {
    "colab": {
     "base_uri": "https://localhost:8080/"
    },
    "id": "fDkacFinjqdk",
    "outputId": "4caef2f4-a8d8-42b4-e234-af122e646db0"
   },
   "execution_count": 9,
   "outputs": [
    {
     "name": "stdout",
     "output_type": "stream",
     "text": [
      "2 -24 -15 21\n"
     ]
    }
   ]
  },
  {
   "cell_type": "code",
   "source": [
    "my_list = [2.6743, 3.63526, 4.2325, 5.9687967, 6.3265, 7.6988, 8.232, 9.6907]\n",
    "updated_list = map(round, my_list)\n",
    "print(updated_list)\n",
    "print(list(updated_list))"
   ],
   "metadata": {
    "colab": {
     "base_uri": "https://localhost:8080/"
    },
    "id": "NwW07MdrjtND",
    "outputId": "53f369e3-e154-4a9d-f9a1-e69936b772a2"
   },
   "execution_count": 12,
   "outputs": [
    {
     "name": "stdout",
     "output_type": "stream",
     "text": [
      "<map object at 0x000002B51354E290>\n",
      "[3, 4, 4, 6, 6, 8, 8, 10]\n"
     ]
    }
   ]
  },
  {
   "cell_type": "markdown",
   "source": [
    "#functools.reduce example\n",
    "The reduce(fun,seq) function is used to apply a particular function passed in its argument to all of the list elements mentioned in the sequence passed along.This function is defined in “functools” module.\n"
   ],
   "metadata": {
    "id": "KoCAWA7YfGpp"
   }
  },
  {
   "cell_type": "code",
   "source": [
    "from functools import reduce\n",
    "from operator import add\n",
    "\n",
    "rdd = list(range(1, 6))\n",
    "print(rdd)\n",
    "reduce(add, rdd)  # computes ((((1+2)+3)+4)+5)"
   ],
   "metadata": {
    "colab": {
     "base_uri": "https://localhost:8080/"
    },
    "id": "I9D0t-TSezSS",
    "outputId": "3a9d55c0-28db-4c21-e7a6-a1f6c78e77ec"
   },
   "execution_count": 13,
   "outputs": [
    {
     "name": "stdout",
     "output_type": "stream",
     "text": [
      "[1, 2, 3, 4, 5]\n"
     ]
    },
    {
     "data": {
      "text/plain": "15"
     },
     "execution_count": 13,
     "metadata": {},
     "output_type": "execute_result"
    }
   ]
  },
  {
   "cell_type": "code",
   "source": [
    "lis = [1, 3, 5, 6, 2, ]\n",
    "print(\"The sum of the list elements is : \", end=\"\")\n",
    "print(reduce(lambda a, b: a + b, lis))"
   ],
   "metadata": {
    "colab": {
     "base_uri": "https://localhost:8080/"
    },
    "id": "UnT2Z3mxjz4B",
    "outputId": "58d59388-b745-4834-c773-b469b0f14e75"
   },
   "execution_count": 14,
   "outputs": [
    {
     "name": "stdout",
     "output_type": "stream",
     "text": [
      "The sum of the list elements is : 17\n"
     ]
    }
   ]
  },
  {
   "cell_type": "code",
   "source": [
    "print(\"The maximum element of the list is : \", end=\"\")\n",
    "print(reduce(lambda a, b: a if a > b else b, lis))"
   ],
   "metadata": {
    "colab": {
     "base_uri": "https://localhost:8080/"
    },
    "id": "7lgCKWbQkPwQ",
    "outputId": "0dbf94b4-f8a6-4bbc-982e-4638703ee604"
   },
   "execution_count": 15,
   "outputs": [
    {
     "name": "stdout",
     "output_type": "stream",
     "text": [
      "The maximum element of the list is : 6\n"
     ]
    }
   ]
  },
  {
   "cell_type": "markdown",
   "source": [
    "## Weighted mean and Variance\n",
    "\n",
    "If the generator of random variable $X$ is discrete with probability mass function $x_1 \\mapsto p_1, x_2 \\mapsto p_2, \\ldots, x_n \\mapsto p_n$ then\n",
    "\n",
    "$$\\operatorname{Var}(X) = \\left(\\sum_{i=1}^n p_i x_i ^2\\right) - \\mu^2,$$\n",
    "\n",
    "where $\\mu$ is the average value, i.e.\n",
    "\n",
    "$$\\mu = \\sum_{i=1}^n p_i x_i. $$"
   ],
   "metadata": {
    "id": "S7Mll1L_fwvj"
   }
  },
  {
   "cell_type": "code",
   "source": [
    "X = [5, 1, 2, 3, 1, 2, 5, 4]\n",
    "P = [0.05, 0.05, 0.15, 0.05, 0.15, 0.2, 0.1, 0.25]"
   ],
   "metadata": {
    "id": "LbTjteZVfYoo"
   },
   "execution_count": 16,
   "outputs": []
  },
  {
   "cell_type": "markdown",
   "source": [
    "**Challenge 1: Write functions to compute the average value and variance using for loops.**"
   ],
   "metadata": {
    "id": "M7c3fekag26h"
   }
  },
  {
   "cell_type": "code",
   "execution_count": 30,
   "outputs": [
    {
     "name": "stdout",
     "output_type": "stream",
     "text": [
      "2.8\n",
      "1.9600000000000017\n"
     ]
    }
   ],
   "source": [
    "def average(x, p):\n",
    "    avg = 0\n",
    "    for i, v in enumerate(x):\n",
    "        avg += v * p[i]\n",
    "    return avg\n",
    "\n",
    "\n",
    "def variance(x, p):\n",
    "    avg_sqr = average(x, p) ** 2\n",
    "    m = 0\n",
    "    for i, v in enumerate(x):\n",
    "        m += v ** 2 * p[i]\n",
    "    return m - avg_sqr\n",
    "\n",
    "\n",
    "print(average(X, P))\n",
    "print(variance(X, P))"
   ],
   "metadata": {
    "collapsed": false
   }
  },
  {
   "cell_type": "markdown",
   "source": [
    "**Challenge 2: Write functions to compute the average value and variance using `map` and `reduce`.**"
   ],
   "metadata": {
    "id": "-0m2QleChV1x"
   }
  },
  {
   "cell_type": "code",
   "source": [
    "def average2(x, p):\n",
    "    mult = map(mul, x, p)\n",
    "    return reduce(add, mult)\n",
    "\n",
    "\n",
    "def variance2(x, p):\n",
    "    avg_sqr = average2(x, p) ** 2\n",
    "    mult = map(multiply_p_and_x_sqr, x, p)\n",
    "    return reduce(add, mult) - avg_sqr\n",
    "\n",
    "\n",
    "def multiply_p_and_x_sqr(x, p):\n",
    "    return x ** 2 * p\n",
    "\n",
    "\n",
    "print(average2(X, P))\n",
    "print(variance2(X, P))"
   ],
   "metadata": {
    "id": "kLargliZiw0h"
   },
   "execution_count": 34,
   "outputs": [
    {
     "name": "stdout",
     "output_type": "stream",
     "text": [
      "2.8\n",
      "1.9600000000000017\n"
     ]
    }
   ]
  },
  {
   "cell_type": "markdown",
   "source": [
    "#**Word Count Exercise**\n",
    "The `map` process takes text files as input and breaks it into words. The `reduce` process sums the counts for each word and emits a single key/value with the word and sum. **Please use the IHaveADream TXT document in the Lecture 8 Slides reading within the Coursework Folder.**"
   ],
   "metadata": {
    "id": "swk5MiB7h3rD"
   }
  },
  {
   "cell_type": "markdown",
   "source": [
    "**Challenge 3: Write a function named mapper with a single file name as input that returns a sorted sequence of tuples (word, 1) values.**"
   ],
   "metadata": {
    "id": "uh_n9wpDh_6v"
   }
  },
  {
   "cell_type": "code",
   "execution_count": 16,
   "outputs": [],
   "source": [
    "import string\n",
    "\n",
    "\n",
    "def mapper(filename):\n",
    "    file = open(filename)  # open the file\n",
    "    data = file.read()  # push the file content into the data variable\n",
    "    words = data.split()  # break the content into an array of sentences\n",
    "    file.close()  # close the file\n",
    "\n",
    "    wordfreq = []\n",
    "    for word in words:\n",
    "        word = word.strip(string.punctuation)\n",
    "        wordfreq.append((word.lower(), 1))  # convert to lowercase to prevent same word from repeating\n",
    "\n",
    "    return sorted(wordfreq, key=lambda x: x[0], reverse=True)\n",
    "\n",
    "\n",
    "pairs = mapper('IHaveADream.txt')"
   ],
   "metadata": {
    "collapsed": false
   }
  },
  {
   "cell_type": "markdown",
   "source": [
    "**Challenge 4: Create a function named partitioner that stores the key/value pairs from mapper that group (word, 1) pairs into a list as:**"
   ],
   "metadata": {
    "id": "uuZe4GmviRxw"
   }
  },
  {
   "cell_type": "code",
   "execution_count": 17,
   "outputs": [
    {
     "name": "stdout",
     "output_type": "stream",
     "text": [
      "('your', [1]) ('you', [1, 1, 1, 1, 1, 1, 1, 1]) ('york', [1, 1]) ('yes', [1]) ('years', [1, 1, 1, 1, 1]) ('wrote', [1]) ('wrongful', [1]) ('would', [1, 1]) ('work', [1, 1]) ('words', [1, 1, 1]) ('withering', [1]) ('with', [1, 1, 1, 1, 1, 1, 1, 1, 1, 1, 1, 1, 1, 1, 1, 1]) ('winds', [1]) ('will', [1, 1, 1, 1, 1, 1, 1, 1, 1, 1, 1, 1, 1, 1, 1, 1, 1, 1, 1, 1, 1, 1, 1, 1, 1, 1, 1]) ('whose', [1]) ('who', [1, 1, 1, 1]) ('whites', [1]) ('white', [1, 1, 1, 1, 1, 1]) ('whirlwinds', [1]) ('which', [1, 1, 1, 1, 1]) ('where', [1, 1, 1]) ('when', [1, 1, 1, 1, 1, 1, 1]) ('what', [1]) ('were', [1]) ('well', [1]) (\"we've\", [1, 1, 1]) ('we', [1, 1, 1, 1, 1, 1, 1, 1, 1, 1, 1, 1, 1, 1, 1, 1, 1, 1, 1, 1, 1, 1, 1, 1, 1, 1, 1, 1, 1, 1]) ('waters', [1]) ('was', [1, 1]) ('warm', [1]) ('wallow', [1]) ('walk', [1, 1]) ('vote', [1, 1]) ('violence', [1]) ('village', [1]) ('victim', [1]) ('vicious', [1]) ('veterans', [1]) ('vaults', [1]) ('vast', [1]) ('valley', [1, 1, 1]) ('usual', [1]) ('us', [1, 1, 1, 1]) ('urgency', [1, 1]) ('upon', [1]) ('up', [1, 1, 1, 1]) ('until', [1, 1, 1, 1]) ('unspeakable', [1]) ('unmindful', [1]) ('unearned', [1]) ('unalienable', [1]) ('turn', [1]) ('truths', [1]) ('true', [1, 1]) ('tribulations', [1]) ('trials', [1]) ('travel', [1]) ('transformed', [1]) ('transform', [1]) ('tranquilizing', [1]) ('tranquility', [1]) ('tomorrow', [1]) ('together.\"2', [1]) ('together', [1, 1, 1, 1, 1, 1]) ('today', [1, 1, 1, 1, 1, 1, 1, 1, 1]) ('to', [1, 1, 1, 1, 1, 1, 1, 1, 1, 1, 1, 1, 1, 1, 1, 1, 1, 1, 1, 1, 1, 1, 1, 1, 1, 1, 1, 1, 1, 1, 1, 1, 1, 1, 1, 1, 1, 1, 1, 1, 1, 1, 1, 1, 1, 1, 1, 1, 1, 1, 1, 1, 1, 1, 1, 1, 1, 1, 1]) ('tis', [1]) ('time', [1, 1, 1, 1, 1]) ('tied', [1]) ('threshold', [1]) ('though', [1]) ('those', [1, 1]) ('this', [1, 1, 1, 1, 1, 1, 1, 1, 1, 1, 1, 1, 1, 1, 1, 1, 1, 1, 1, 1]) ('thirst', [1]) ('they', [1, 1, 1]) ('these', [1]) ('there', [1, 1, 1, 1, 1, 1]) ('their', [1, 1, 1, 1, 1, 1, 1, 1]) ('thee', [1, 1]) ('the', [1, 1, 1, 1, 1, 1, 1, 1, 1, 1, 1, 1, 1, 1, 1, 1, 1, 1, 1, 1, 1, 1, 1, 1, 1, 1, 1, 1, 1, 1, 1, 1, 1, 1, 1, 1, 1, 1, 1, 1, 1, 1, 1, 1, 1, 1, 1, 1, 1, 1, 1, 1, 1, 1, 1, 1, 1, 1, 1, 1, 1, 1, 1, 1, 1, 1, 1, 1, 1, 1, 1, 1, 1, 1, 1, 1, 1, 1, 1, 1, 1, 1, 1, 1, 1, 1, 1, 1, 1, 1, 1, 1, 1, 1, 1, 1, 1, 1, 1, 1, 1, 1, 1]) ('that', [1, 1, 1, 1, 1, 1, 1, 1, 1, 1, 1, 1, 1, 1, 1, 1, 1, 1, 1, 1, 1, 1, 1, 1]) ('thank', [1]) ('tennessee', [1]) ('take', [1]) ('table', [1]) ('symphony', [1]) ('symbolic', [1]) ('sweltering', [1, 1, 1]) ('sweet', [1]) ('sunlit', [1]) ('summer', [1]) ('suffering', [1, 1]) ('struggle', [1, 1]) ('stripped', [1]) ('stream.\"1', [1]) ('straight', [1]) ('storms', [1]) ('stone', [1, 1]) ('still', [1, 1, 1, 1]) ('steam', [1]) ('stating', [1]) ('state', [1, 1, 1]) ('stand', [1, 1, 1]) ('staggered', [1]) ('spot', [1]) ('spiritual', [1]) ('speed', [1]) ('south', [1, 1]) ('soul', [1]) ('sons', [1, 1]) ('something', [1]) ('somehow', [1]) ('some', [1, 1, 1]) ('solid', [1]) ('society', [1]) ('so', [1, 1, 1, 1]) ('snow-capped', [1]) ('smaller', [1]) ('slums', [1]) ('slopes', [1]) ('slaves', [1, 1]) ('slave', [1]) ('skin', [1]) ('sixty-three', [1]) ('situation', [1]) ('sit', [1]) ('sisters', [1]) ('sing', [1, 1, 1]) ('signs', [1]) ('signing', [1]) ('signed', [1]) ('shameful', [1]) ('shall', [1, 1, 1, 1, 1]) ('shake', [1]) ('shadow', [1]) ('sense', [1]) ('self-hood', [1]) ('self-evident', [1]) ('segregation', [1, 1]) ('seek', [1]) ('see', [1]) ('security', [1]) ('seared', [1]) ('score', [1]) ('say', [1, 1]) ('satisfy', [1]) ('satisfied', [1, 1, 1, 1, 1, 1, 1, 1]) ('sadly', [1]) ('sacred', [1]) ('rude', [1]) ('rough', [1]) ('rooted', [1]) ('rolls', [1]) ('rockies', [1]) ('rock', [1]) ('robbed', [1]) ('rise', [1, 1, 1]) ('ring', [1, 1, 1, 1, 1, 1, 1, 1, 1, 1, 1, 1]) ('rights', [1, 1, 1]) ('rightful', [1]) ('righteousness', [1]) ('right', [1]) ('riches', [1]) ('revolt', [1]) ('revealed', [1]) ('returns', [1]) ('rest', [1]) ('republic', [1]) ('remind', [1]) ('refuse', [1, 1]) ('redemptive', [1]) ('red', [1]) ('realize', [1, 1]) ('reality', [1]) ('real', [1]) ('racists', [1]) ('racial', [1, 1]) ('quicksands', [1]) ('quest', [1, 1]) ('pursuit', [1]) ('protestants', [1]) ('protest', [1]) ('prosperity', [1]) ('promissory', [1, 1]) ('promises', [1]) ('promise', [1]) ('prodigious', [1]) ('proclamation', [1]) ('process', [1]) ('pride', [1]) ('presence', [1]) ('pray', [1]) ('poverty', [1]) ('police', [1, 1]) ('pledge', [1]) ('plane', [1]) ('plain', [1]) ('places', [1, 1]) ('place', [1]) (\"pilgrim's\", [1]) ('physical', [1, 1]) ('persecution', [1]) ('people', [1, 1, 1]) ('pennsylvania', [1]) ('path', [1]) ('pass', [1]) ('palace', [1]) ('owners', [1]) ('own', [1]) ('overlook', [1]) ('out', [1, 1, 1]) ('our', [1, 1, 1, 1, 1, 1, 1, 1, 1, 1, 1, 1, 1, 1, 1, 1, 1]) ('or', [1]) ('oppression', [1]) ('opportunity', [1]) ('only', [1, 1]) ('one', [1, 1, 1, 1, 1, 1, 1, 1, 1, 1, 1, 1, 1]) ('on', [1, 1, 1, 1, 1]) ('old', [1]) ('off', [1, 1]) ('of', [1, 1, 1, 1, 1, 1, 1, 1, 1, 1, 1, 1, 1, 1, 1, 1, 1, 1, 1, 1, 1, 1, 1, 1, 1, 1, 1, 1, 1, 1, 1, 1, 1, 1, 1, 1, 1, 1, 1, 1, 1, 1, 1, 1, 1, 1, 1, 1, 1, 1, 1, 1, 1, 1, 1, 1, 1, 1, 1, 1, 1, 1, 1, 1, 1, 1, 1, 1, 1, 1, 1, 1, 1, 1, 1, 1, 1, 1, 1, 1, 1, 1, 1, 1, 1, 1, 1, 1, 1, 1, 1, 1, 1, 1, 1, 1, 1, 1, 1]) ('ocean', [1]) ('obvious', [1]) ('obligation', [1]) ('oasis', [1]) ('nullification', [1]) ('now', [1, 1, 1, 1, 1, 1]) ('nothing', [1]) ('note', [1, 1, 1]) ('not', [1, 1, 1, 1, 1, 1, 1, 1, 1, 1, 1, 1, 1]) ('northern', [1]) ('nor', [1]) ('no', [1, 1, 1]) ('nineteen', [1]) ('night', [1]) ('new', [1, 1, 1, 1, 1]) ('never', [1, 1, 1]) ('neither', [1]) (\"negro's\", [1, 1]) ('negro', [1, 1, 1, 1, 1, 1, 1, 1, 1, 1, 1, 1, 1]) ('needed', [1]) (\"nation's\", [1]) ('nation', [1, 1, 1, 1, 1, 1, 1, 1, 1, 1]) ('narrow', [1]) ('my', [1, 1, 1, 1, 1]) ('must', [1, 1, 1, 1, 1, 1, 1, 1]) ('mountainside', [1, 1]) ('mountains', [1]) ('mountain', [1, 1, 1, 1]) ('motels', [1]) ('momentous', [1]) ('moment', [1]) ('molehill', [1]) ('mobility', [1]) ('mississippi', [1, 1, 1, 1]) ('millions', [1]) ('militancy', [1]) ('mighty', [1, 1]) ('midst', [1]) ('men', [1, 1, 1, 1, 1, 1]) ('meeting', [1]) ('meaning', [1, 1]) ('material', [1]) ('marvelous', [1]) ('marked', [1]) ('march', [1]) ('many', [1]) ('manacles', [1]) ('make', [1, 1, 1]) ('majestic', [1]) ('magnificent', [1]) ('made', [1, 1, 1]) ('luxury', [1]) ('low', [1]) ('louisiana', [1]) ('lord', [1]) ('lookout', [1]) ('long', [1, 1, 1, 1, 1, 1]) ('lonely', [1]) ('lodging', [1]) ('lives', [1]) ('live', [1, 1]) ('little', [1, 1, 1]) ('lips', [1]) ('like', [1, 1]) ('light', [1]) ('lift', [1]) ('life', [1, 1]) ('liberty', [1, 1]) ('let', [1, 1, 1, 1, 1, 1, 1, 1, 1, 1, 1, 1, 1]) ('legitimate', [1]) ('left', [1]) ('leads', [1]) ('lead', [1]) ('later', [1, 1, 1, 1]) ('last!3', [1]) ('last', [1, 1]) ('larger', [1]) ('languished', [1]) ('land', [1, 1, 1, 1]) ('knowing', [1, 1]) ('justice', [1, 1, 1, 1, 1, 1, 1, 1]) ('judged', [1]) ('joyous', [1]) ('join', [1, 1, 1]) ('jews', [1]) ('jangling', [1]) ('jail', [1, 1]) ('its', [1, 1, 1]) ('it', [1, 1, 1, 1, 1, 1]) ('island', [1]) ('is', [1, 1, 1, 1, 1, 1, 1, 1, 1, 1, 1, 1, 1, 1, 1, 1, 1, 1, 1, 1, 1, 1, 1]) ('invigorating', [1]) ('into', [1, 1, 1, 1]) ('interposition', [1]) ('insufficient', [1, 1]) ('instead', [1]) ('insofar', [1]) ('injustice', [1, 1, 1]) ('inextricably', [1]) ('independence', [1]) ('in', [1, 1, 1, 1, 1, 1, 1, 1, 1, 1, 1, 1, 1, 1, 1, 1, 1, 1, 1, 1, 1, 1]) ('if', [1, 1]) ('i', [1, 1, 1, 1, 1, 1, 1, 1, 1, 1, 1, 1, 1, 1, 1]) ('hundred', [1, 1, 1, 1]) ('hotels', [1]) ('horrors', [1]) ('hope', [1, 1, 1, 1]) ('honoring', [1]) ('hold', [1]) ('history', [1, 1]) ('his', [1, 1, 1]) ('himself', [1]) ('hilltops', [1]) ('hills', [1]) ('hill', [1, 1]) ('highways', [1]) ('high', [1]) ('hew', [1]) ('here', [1, 1, 1]) ('her', [1]) ('heir', [1]) ('heights', [1]) ('heightening', [1]) ('heavy', [1]) ('heat', [1, 1]) ('he', [1]) ('having', [1]) ('have', [1, 1, 1, 1, 1, 1, 1, 1, 1, 1, 1, 1, 1, 1, 1, 1, 1]) ('hatred', [1]) ('has', [1, 1, 1, 1, 1]) ('happy', [1]) ('happiness', [1]) ('happens', [1]) ('hands', [1, 1]) ('hampshire', [1]) ('hamlet', [1]) ('hallowed', [1]) ('had', [1]) ('guilty', [1]) ('guaranteed', [1]) ('greatest', [1]) ('great', [1, 1, 1, 1, 1]) ('granted', [1]) ('gradualism', [1]) ('governor', [1]) (\"god's\", [1, 1, 1]) ('god', [1]) ('go', [1, 1, 1, 1, 1, 1, 1, 1, 1]) ('glory', [1]) ('given', [1]) ('give', [1]) ('girls', [1, 1]) ('ghettos', [1]) ('ghetto', [1]) ('georgia', [1, 1, 1]) ('gentiles', [1]) ('gaining', [1]) ('gain', [1]) ('funds', [1, 1]) ('from', [1, 1, 1, 1, 1, 1, 1, 1, 1, 1, 1, 1, 1, 1, 1, 1, 1, 1]) ('friends', [1]) ('fresh', [1]) ('freedom', [1, 1, 1, 1, 1, 1, 1, 1, 1, 1, 1, 1, 1, 1, 1, 1, 1, 1, 1, 1]) ('free', [1, 1, 1, 1, 1]) ('four', [1]) ('foundations', [1]) ('former', [1, 1]) ('forever', [1]) ('force', [1, 1]) ('for', [1, 1, 1, 1, 1, 1, 1, 1, 1]) ('flesh', [1]) ('flames', [1]) ('five', [1]) ('finds', [1]) ('fierce', [1]) ('fatigue', [1]) ('fathers', [1]) ('fatal', [1]) ('fall', [1]) ('faith', [1, 1, 1, 1, 1]) ('face', [1]) ('exile', [1]) ('exalted', [1]) ('evidenced', [1]) ('every', [1, 1, 1, 1, 1, 1, 1, 1, 1, 1]) ('even', [1, 1]) ('equality', [1]) ('equal', [1]) ('engulfed', [1]) ('engage', [1]) ('end', [1, 1]) ('emerges', [1]) ('emancipation', [1]) ('drug', [1]) ('dripping', [1]) ('drinking', [1]) ('dream', [1, 1, 1, 1, 1, 1, 1, 1, 1, 1, 1]) ('dramatize', [1]) ('down', [1, 1, 1, 1]) ('distrust', [1]) ('discrimination', [1]) ('discords', [1]) ('discontent', [1]) ('discipline', [1]) ('dignity', [1, 1]) ('difficulties', [1]) ('died', [1]) ('devotees', [1]) ('destiny', [1, 1]) ('despair', [1, 1]) ('desolate', [1]) ('demonstration', [1]) ('democracy', [1]) ('demand', [1]) ('degenerate', [1]) ('defaulted', [1]) ('deeply', [1]) ('deeds', [1]) ('decree', [1]) ('declaration', [1]) ('daybreak', [1]) ('day', [1, 1, 1, 1, 1, 1, 1, 1, 1, 1, 1, 1]) ('dark', [1]) ('curvaceous', [1]) ('cup', [1]) ('crooked', [1]) ('crippled', [1]) ('creed', [1]) ('creative', [1, 1]) ('created', [1]) ('country', [1]) ('corners', [1]) ('cooling', [1]) ('continue', [1, 1]) ('content', [1, 1]) ('constitution', [1]) ('conduct', [1]) ('condition', [1]) ('concerned', [1]) ('community', [1]) ('come', [1, 1, 1, 1, 1, 1, 1, 1, 1, 1]) ('colorado', [1]) ('color', [1, 1]) ('civil', [1]) ('city', [1]) ('citizenship', [1]) ('citizens', [1]) ('cities', [1, 1]) ('children', [1, 1, 1, 1, 1]) ('check', [1, 1, 1, 1, 1]) ('character', [1]) ('changed', [1]) ('chains', [1]) ('cells', [1]) ('catholics', [1]) ('cash', [1, 1]) ('carolina', [1]) ('captivity', [1]) ('capital', [1]) ('cannot', [1, 1, 1, 1, 1, 1]) ('can', [1, 1, 1, 1]) ('came', [1, 1]) ('california', [1]) ('by', [1, 1, 1, 1, 1, 1, 1, 1]) ('but', [1, 1, 1, 1, 1, 1]) ('business', [1]) ('brutality', [1, 1]) ('brothers', [1, 1]) ('brotherhood', [1, 1, 1]) ('bright', [1]) ('boys', [1, 1]) ('bound', [1]) ('bodies', [1]) ('blow', [1]) ('black', [1, 1, 1, 1]) ('bitterness', [1]) ('believes', [1]) ('believe', [1, 1]) ('beginning', [1]) ('been', [1, 1]) ('become', [1]) ('beautiful', [1]) ('beacon', [1]) ('be', [1, 1, 1, 1, 1, 1, 1, 1, 1, 1, 1, 1, 1, 1, 1, 1, 1, 1, 1, 1, 1, 1, 1, 1, 1, 1, 1, 1, 1, 1, 1, 1, 1]) ('battered', [1]) ('basic', [1]) ('bankrupt', [1]) ('bank', [1]) ('bad', [1]) ('back', [1, 1, 1, 1, 1, 1, 1, 1, 1]) ('awakening', [1]) ('autumn', [1]) ('at', [1, 1, 1, 1]) ('asking', [1]) ('as', [1, 1, 1, 1, 1, 1, 1, 1, 1, 1, 1, 1, 1, 1, 1, 1, 1, 1, 1, 1]) ('areas', [1]) ('are', [1, 1, 1, 1, 1, 1, 1, 1]) ('architects', [1]) ('and', [1, 1, 1, 1, 1, 1, 1, 1, 1, 1, 1, 1, 1, 1, 1, 1, 1, 1, 1, 1, 1, 1, 1, 1, 1, 1, 1, 1, 1, 1, 1, 1, 1, 1, 1, 1, 1, 1, 1, 1, 1, 1, 1, 1, 1, 1, 1, 1, 1, 1, 1, 1, 1, 1]) ('an', [1, 1, 1, 1]) ('american', [1, 1, 1, 1]) ('america', [1, 1, 1, 1, 1]) ('am', [1, 1]) ('always', [1]) ('also', [1]) ('alone', [1]) ('almighty', [1]) ('allow', [1, 1]) ('alleghenies', [1]) ('all', [1, 1, 1, 1, 1, 1, 1]) ('alabama', [1, 1, 1]) ('ahead', [1]) ('ago', [1]) ('again', [1, 1]) ('able', [1, 1, 1, 1, 1, 1, 1, 1]) ('a', [1, 1, 1, 1, 1, 1, 1, 1, 1, 1, 1, 1, 1, 1, 1, 1, 1, 1, 1, 1, 1, 1, 1, 1, 1, 1, 1, 1, 1, 1, 1, 1, 1, 1, 1, 1, 1]) ('', [1, 1, 1])\n"
     ]
    }
   ],
   "source": [
    "def partitioner():\n",
    "    frequencies = {}\n",
    "    for pair in pairs:\n",
    "        frequencies.setdefault(pair[0], []).append(pair[1])\n",
    "\n",
    "    frequencies_keys = frequencies.keys()\n",
    "    frequencies_values = frequencies.values()\n",
    "    return zip(frequencies_keys, frequencies_values)\n",
    "\n",
    "\n",
    "print(*partitioner())"
   ],
   "metadata": {
    "collapsed": false
   }
  },
  {
   "cell_type": "markdown",
   "source": [
    "**Challenge 5: Write the function named reducer that read a tuple (word,[1,1,1,..,1]) and sum the occurrences of word to a final count, and then output the tuple (word,occurences).**"
   ],
   "metadata": {
    "id": "DuTsjsv_isHN"
   }
  },
  {
   "cell_type": "code",
   "execution_count": 18,
   "outputs": [],
   "source": [
    "def reducer(tuple_value):\n",
    "    return tuple_value[0], sum(tuple_value[1])"
   ],
   "metadata": {
    "collapsed": false
   }
  },
  {
   "cell_type": "code",
   "execution_count": 20,
   "outputs": [
    {
     "name": "stdout",
     "output_type": "stream",
     "text": [
      "[('the', 103), ('of', 99), ('to', 59), ('and', 54), ('a', 37), ('be', 33), ('we', 30), ('will', 27), ('that', 24), ('is', 23), ('in', 22), ('this', 20), ('freedom', 20), ('as', 20), ('from', 18), ('our', 17), ('have', 17), ('with', 16), ('i', 15), ('one', 13), ('not', 13), ('negro', 13), ('let', 13), ('ring', 12), ('day', 12), ('dream', 11), ('nation', 10), ('every', 10), ('come', 10), ('today', 9), ('go', 9), ('for', 9), ('back', 9), ('you', 8), ('their', 8), ('satisfied', 8), ('must', 8), ('justice', 8), ('by', 8), ('are', 8), ('able', 8), ('when', 7), ('all', 7), ('white', 6), ('together', 6), ('there', 6), ('now', 6), ('men', 6), ('long', 6), ('it', 6), ('cannot', 6), ('but', 6), ('years', 5), ('which', 5), ('time', 5), ('shall', 5), ('on', 5), ('new', 5), ('my', 5), ('has', 5), ('great', 5), ('free', 5), ('faith', 5), ('children', 5), ('check', 5), ('america', 5), ('who', 4), ('us', 4), ('up', 4), ('until', 4), ('still', 4), ('so', 4), ('mountain', 4), ('mississippi', 4), ('later', 4), ('land', 4), ('into', 4), ('hundred', 4), ('hope', 4), ('down', 4), ('can', 4), ('black', 4), ('at', 4), ('an', 4), ('american', 4), ('words', 3), ('where', 3), (\"we've\", 3), ('valley', 3), ('they', 3), ('sweltering', 3), ('state', 3), ('stand', 3), ('some', 3), ('sing', 3), ('rise', 3), ('rights', 3), ('people', 3), ('out', 3), ('note', 3), ('no', 3), ('never', 3), ('make', 3), ('made', 3), ('little', 3), ('join', 3), ('its', 3), ('injustice', 3), ('his', 3), ('here', 3), (\"god's\", 3), ('georgia', 3), ('brotherhood', 3), ('alabama', 3), ('', 3), ('york', 2), ('would', 2), ('work', 2), ('was', 2), ('walk', 2), ('vote', 2), ('urgency', 2), ('true', 2), ('those', 2), ('thee', 2), ('suffering', 2), ('struggle', 2), ('stone', 2), ('south', 2), ('sons', 2), ('slaves', 2), ('segregation', 2), ('say', 2), ('refuse', 2), ('realize', 2), ('racial', 2), ('quest', 2), ('promissory', 2), ('police', 2), ('places', 2), ('physical', 2), ('only', 2), ('off', 2), (\"negro's\", 2), ('mountainside', 2), ('mighty', 2), ('meaning', 2), ('live', 2), ('like', 2), ('life', 2), ('liberty', 2), ('last', 2), ('knowing', 2), ('jail', 2), ('insufficient', 2), ('if', 2), ('history', 2), ('hill', 2), ('heat', 2), ('hands', 2), ('girls', 2), ('funds', 2), ('former', 2), ('force', 2), ('even', 2), ('end', 2), ('dignity', 2), ('destiny', 2), ('despair', 2), ('creative', 2), ('continue', 2), ('content', 2), ('color', 2), ('cities', 2), ('cash', 2), ('came', 2), ('brutality', 2), ('brothers', 2), ('boys', 2), ('believe', 2), ('been', 2), ('am', 2), ('allow', 2), ('again', 2), ('your', 1), ('yes', 1), ('wrote', 1), ('wrongful', 1), ('withering', 1), ('winds', 1), ('whose', 1), ('whites', 1), ('whirlwinds', 1), ('what', 1), ('were', 1), ('well', 1), ('waters', 1), ('warm', 1), ('wallow', 1), ('violence', 1), ('village', 1), ('victim', 1), ('vicious', 1), ('veterans', 1), ('vaults', 1), ('vast', 1), ('usual', 1), ('upon', 1), ('unspeakable', 1), ('unmindful', 1), ('unearned', 1), ('unalienable', 1), ('turn', 1), ('truths', 1), ('tribulations', 1), ('trials', 1), ('travel', 1), ('transformed', 1), ('transform', 1), ('tranquilizing', 1), ('tranquility', 1), ('tomorrow', 1), ('together.\"2', 1), ('tis', 1), ('tied', 1), ('threshold', 1), ('though', 1), ('thirst', 1), ('these', 1), ('thank', 1), ('tennessee', 1), ('take', 1), ('table', 1), ('symphony', 1), ('symbolic', 1), ('sweet', 1), ('sunlit', 1), ('summer', 1), ('stripped', 1), ('stream.\"1', 1), ('straight', 1), ('storms', 1), ('steam', 1), ('stating', 1), ('staggered', 1), ('spot', 1), ('spiritual', 1), ('speed', 1), ('soul', 1), ('something', 1), ('somehow', 1), ('solid', 1), ('society', 1), ('snow-capped', 1), ('smaller', 1), ('slums', 1), ('slopes', 1), ('slave', 1), ('skin', 1), ('sixty-three', 1), ('situation', 1), ('sit', 1), ('sisters', 1), ('signs', 1), ('signing', 1), ('signed', 1), ('shameful', 1), ('shake', 1), ('shadow', 1), ('sense', 1), ('self-hood', 1), ('self-evident', 1), ('seek', 1), ('see', 1), ('security', 1), ('seared', 1), ('score', 1), ('satisfy', 1), ('sadly', 1), ('sacred', 1), ('rude', 1), ('rough', 1), ('rooted', 1), ('rolls', 1), ('rockies', 1), ('rock', 1), ('robbed', 1), ('rightful', 1), ('righteousness', 1), ('right', 1), ('riches', 1), ('revolt', 1), ('revealed', 1), ('returns', 1), ('rest', 1), ('republic', 1), ('remind', 1), ('redemptive', 1), ('red', 1), ('reality', 1), ('real', 1), ('racists', 1), ('quicksands', 1), ('pursuit', 1), ('protestants', 1), ('protest', 1), ('prosperity', 1), ('promises', 1), ('promise', 1), ('prodigious', 1), ('proclamation', 1), ('process', 1), ('pride', 1), ('presence', 1), ('pray', 1), ('poverty', 1), ('pledge', 1), ('plane', 1), ('plain', 1), ('place', 1), (\"pilgrim's\", 1), ('persecution', 1), ('pennsylvania', 1), ('path', 1), ('pass', 1), ('palace', 1), ('owners', 1), ('own', 1), ('overlook', 1), ('or', 1), ('oppression', 1), ('opportunity', 1), ('old', 1), ('ocean', 1), ('obvious', 1), ('obligation', 1), ('oasis', 1), ('nullification', 1), ('nothing', 1), ('northern', 1), ('nor', 1), ('nineteen', 1), ('night', 1), ('neither', 1), ('needed', 1), (\"nation's\", 1), ('narrow', 1), ('mountains', 1), ('motels', 1), ('momentous', 1), ('moment', 1), ('molehill', 1), ('mobility', 1), ('millions', 1), ('militancy', 1), ('midst', 1), ('meeting', 1), ('material', 1), ('marvelous', 1), ('marked', 1), ('march', 1), ('many', 1), ('manacles', 1), ('majestic', 1), ('magnificent', 1), ('luxury', 1), ('low', 1), ('louisiana', 1), ('lord', 1), ('lookout', 1), ('lonely', 1), ('lodging', 1), ('lives', 1), ('lips', 1), ('light', 1), ('lift', 1), ('legitimate', 1), ('left', 1), ('leads', 1), ('lead', 1), ('last!3', 1), ('larger', 1), ('languished', 1), ('judged', 1), ('joyous', 1), ('jews', 1), ('jangling', 1), ('island', 1), ('invigorating', 1), ('interposition', 1), ('instead', 1), ('insofar', 1), ('inextricably', 1), ('independence', 1), ('hotels', 1), ('horrors', 1), ('honoring', 1), ('hold', 1), ('himself', 1), ('hilltops', 1), ('hills', 1), ('highways', 1), ('high', 1), ('hew', 1), ('her', 1), ('heir', 1), ('heights', 1), ('heightening', 1), ('heavy', 1), ('he', 1), ('having', 1), ('hatred', 1), ('happy', 1), ('happiness', 1), ('happens', 1), ('hampshire', 1), ('hamlet', 1), ('hallowed', 1), ('had', 1), ('guilty', 1), ('guaranteed', 1), ('greatest', 1), ('granted', 1), ('gradualism', 1), ('governor', 1), ('god', 1), ('glory', 1), ('given', 1), ('give', 1), ('ghettos', 1), ('ghetto', 1), ('gentiles', 1), ('gaining', 1), ('gain', 1), ('friends', 1), ('fresh', 1), ('four', 1), ('foundations', 1), ('forever', 1), ('flesh', 1), ('flames', 1), ('five', 1), ('finds', 1), ('fierce', 1), ('fatigue', 1), ('fathers', 1), ('fatal', 1), ('fall', 1), ('face', 1), ('exile', 1), ('exalted', 1), ('evidenced', 1), ('equality', 1), ('equal', 1), ('engulfed', 1), ('engage', 1), ('emerges', 1), ('emancipation', 1), ('drug', 1), ('dripping', 1), ('drinking', 1), ('dramatize', 1), ('distrust', 1), ('discrimination', 1), ('discords', 1), ('discontent', 1), ('discipline', 1), ('difficulties', 1), ('died', 1), ('devotees', 1), ('desolate', 1), ('demonstration', 1), ('democracy', 1), ('demand', 1), ('degenerate', 1), ('defaulted', 1), ('deeply', 1), ('deeds', 1), ('decree', 1), ('declaration', 1), ('daybreak', 1), ('dark', 1), ('curvaceous', 1), ('cup', 1), ('crooked', 1), ('crippled', 1), ('creed', 1), ('created', 1), ('country', 1), ('corners', 1), ('cooling', 1), ('constitution', 1), ('conduct', 1), ('condition', 1), ('concerned', 1), ('community', 1), ('colorado', 1), ('civil', 1), ('city', 1), ('citizenship', 1), ('citizens', 1), ('character', 1), ('changed', 1), ('chains', 1), ('cells', 1), ('catholics', 1), ('carolina', 1), ('captivity', 1), ('capital', 1), ('california', 1), ('business', 1), ('bright', 1), ('bound', 1), ('bodies', 1), ('blow', 1), ('bitterness', 1), ('believes', 1), ('beginning', 1), ('become', 1), ('beautiful', 1), ('beacon', 1), ('battered', 1), ('basic', 1), ('bankrupt', 1), ('bank', 1), ('bad', 1), ('awakening', 1), ('autumn', 1), ('asking', 1), ('areas', 1), ('architects', 1), ('always', 1), ('also', 1), ('alone', 1), ('almighty', 1), ('alleghenies', 1), ('ahead', 1), ('ago', 1)]\n"
     ]
    }
   ],
   "source": [
    "final = []\n",
    "\n",
    "for a in partitioner():\n",
    "    final.append(reducer(a))\n",
    "\n",
    "print(sorted(final, key=lambda x: x[1], reverse=True))"
   ],
   "metadata": {
    "collapsed": false
   }
  },
  {
   "cell_type": "code",
   "execution_count": null,
   "outputs": [],
   "source": [],
   "metadata": {
    "collapsed": false
   }
  }
 ]
}
