{
 "cells": [
  {
   "cell_type": "markdown",
   "metadata": {
    "pycharm": {
     "name": "#%% md\n"
    }
   },
   "source": [
    "# Control Flow"
   ]
  },
  {
   "cell_type": "markdown",
   "metadata": {
    "pycharm": {
     "name": "#%% md\n"
    }
   },
   "source": [
    "The __Control Flow__ of a program is the sequence in which the program's code runs.\n",
    "\n",
    "Python has three types of control structures. They are: __*Sequential*__, __*Selection*__, and __*Repetition*__.\n",
    "\n",
    "Conditional statements, loops, and function calls govern the control flow of a Python program."
   ]
  },
  {
   "cell_type": "markdown",
   "metadata": {
    "pycharm": {
     "name": "#%% md\n"
    }
   },
   "source": [
    "### if Statements\n",
    "if statements are control flow statements that allow us to run code only when a specific condition is met or fulfilled.\n",
    "_**if**_ statements can be accompanied by multiple optional _elif_ statements and an optional _else_ statement.\n",
    "\n",
    "- The example below is requesting for a user input.\n",
    "- The value is converted into an integer and stored in a variable __x__\n",
    "- There are four conditions being executed.\n",
    "1. The first condition checks if the value in __x__ is less than 0. If the condition is true, the value in __x__ is changed to 0 and \"Negative changed to zero\" is printed.\n",
    "2. The second condition checks if the value in __x__ is 0. If the condition is true, \"Zero\" is printed.\n",
    "3. The third condition checks if the value is equal to 1. If the condition is true, \"Single\" is printed.\n",
    "4. If all the above conditions fail, \"More\" is printed."
   ]
  },
  {
   "cell_type": "code",
   "execution_count": null,
   "metadata": {
    "pycharm": {
     "is_executing": true,
     "name": "#%%\n"
    }
   },
   "outputs": [],
   "source": [
    "x = int(input('Please enter an integer number: '))\n",
    "\n",
    "if x < 0:\n",
    "    x = 0\n",
    "    print('Negative changed to zero')\n",
    "\n",
    "elif x == 0:\n",
    "    print('Zero')\n",
    "\n",
    "elif x == 1:\n",
    "    print('Single')\n",
    "\n",
    "else:\n",
    "    print('More')"
   ]
  },
  {
   "cell_type": "markdown",
   "metadata": {
    "pycharm": {
     "name": "#%% md\n"
    }
   },
   "source": [
    "### for Statements\n",
    "Generally, a loop consists of three things: _initialization_, _condition_, and _incrementation_.\n",
    "\n",
    "Initialization is used to initialize the starting point of the loop from where it starts performing operations.\n",
    "Condition is used to define the ending point of the loop.\n",
    "Incrementation is used to increment the variable (index, counter, etc) to some steps.\n",
    "\n",
    "The _**for**_ statement is used to iterate over the elements of a sequence (such as a string, tuple or list) or other iterable object.\n",
    "\n",
    "- The example below is assigning a list of strings to a variable called __words__\n",
    "- There's a loop through __words__ to print the items and the length of the items."
   ]
  },
  {
   "cell_type": "code",
   "execution_count": null,
   "metadata": {
    "pycharm": {
     "name": "#%%\n"
    }
   },
   "outputs": [],
   "source": [
    "words = ['cat', 'window', 'defenestrate']\n",
    "\n",
    "for w in words:\n",
    "    print(w, len(w))"
   ]
  },
  {
   "cell_type": "markdown",
   "metadata": {
    "pycharm": {
     "name": "#%% md\n"
    }
   },
   "source": [
    "The first block of code in the code below assigns a dictionary to a variable called __users__\n",
    "The second block of code is iterating through a copy of __users__ and deleting all users whose status' are inactive. This ensures that __users__ remain unchanged.\n",
    "\n",
    "An empty dictionary (__active_users__) is later created.\n",
    "There's another iteration through a copy of __users__ which looks for all users with the status \"active\" and add them to a new dictionary; __active_users__."
   ]
  },
  {
   "cell_type": "code",
   "execution_count": null,
   "metadata": {
    "pycharm": {
     "name": "#%%\n"
    }
   },
   "outputs": [],
   "source": [
    "users = {'Hans': 'active', 'Eleonore': 'inactive', 'pending': 'active'}\n",
    "\n",
    "for user, status in users.copy().items():\n",
    "    if status == 'inactive':\n",
    "        del users[user]\n",
    "\n",
    "active_users = {}\n",
    "\n",
    "for user, status in users.copy().items():\n",
    "    if status == 'active':\n",
    "        active_users[user] = status"
   ]
  },
  {
   "cell_type": "markdown",
   "metadata": {
    "pycharm": {
     "name": "#%% md\n"
    }
   },
   "source": [
    "### The range() Function\n",
    "The range function provides an easy way to iterate over a sequence of numbers.\n",
    "\n",
    "The code sample below is iterating through the first 5 whole numbers and printing them out."
   ]
  },
  {
   "cell_type": "code",
   "execution_count": null,
   "metadata": {
    "pycharm": {
     "name": "#%%\n"
    }
   },
   "outputs": [],
   "source": [
    "for i in range(5):\n",
    "    print(i)"
   ]
  },
  {
   "cell_type": "markdown",
   "metadata": {
    "pycharm": {
     "name": "#%% md\n"
    }
   },
   "source": [
    "The first statement is generating a list of numbers, beginning with 5 and ending with 10, with 10 omitted.\n",
    "\n",
    "the second statement generates a list of numbers, beginning with 0 and ending with 10, with 10 omitted. Each number in the sequence is incremented by 3 in order to get the next number.\n",
    "\n",
    "The third statement generates a list of numbers, beginning with -10 and ending with -100, with -100 omitted. Each number in the sequence is reduced by -30 in order to get the next number."
   ]
  },
  {
   "cell_type": "code",
   "execution_count": null,
   "metadata": {
    "pycharm": {
     "name": "#%%\n"
    }
   },
   "outputs": [],
   "source": [
    "list(range(5, 10))\n",
    "\n",
    "list(range(0, 10, 3))\n",
    "\n",
    "list(range(-10, -100, -30))"
   ]
  },
  {
   "cell_type": "markdown",
   "metadata": {
    "pycharm": {
     "name": "#%% md\n"
    }
   },
   "source": [
    "The code below has a list of strings assigned to a variable called __a__.\n",
    "The length of __a__ is determined and passed to the range function to help with the iteration.\n",
    "The index of an item in __a__, as well as the item itself is printed out."
   ]
  },
  {
   "cell_type": "code",
   "execution_count": null,
   "metadata": {
    "pycharm": {
     "name": "#%%\n"
    }
   },
   "outputs": [],
   "source": [
    "a = ['Mary', 'had', 'a', 'little', 'lamb']\n",
    "\n",
    "for i in range(len(a)):\n",
    "    print(i, a[i])"
   ]
  },
  {
   "cell_type": "markdown",
   "metadata": {
    "pycharm": {
     "name": "#%% md\n"
    }
   },
   "source": [
    "### break and continue Statements, and else Clauses on Loops\n"
   ]
  }
 ],
 "metadata": {
  "kernelspec": {
   "display_name": "Python 3 (ipykernel)",
   "language": "python",
   "name": "python3"
  },
  "language_info": {
   "codemirror_mode": {
    "name": "ipython",
    "version": 3
   },
   "file_extension": ".py",
   "mimetype": "text/x-python",
   "name": "python",
   "nbconvert_exporter": "python",
   "pygments_lexer": "ipython3",
   "version": "3.10.4"
  }
 },
 "nbformat": 4,
 "nbformat_minor": 1
}
