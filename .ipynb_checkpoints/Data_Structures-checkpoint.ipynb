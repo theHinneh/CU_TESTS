{
 "cells": [
  {
   "cell_type": "markdown",
   "metadata": {
    "pycharm": {
     "name": "#%% md\n"
    }
   },
   "source": [
    "# Data Structures\n",
    "Data structure is a storage that is used to store and organize data. It is a way of arranging data on a computer so that it can be accessed and updated efficiently."
   ]
  },
  {
   "cell_type": "markdown",
   "metadata": {
    "pycharm": {
     "name": "#%% md\n"
    }
   },
   "source": [
    "## Lists\n",
    "A list is an ordered data structure with elements separated by a comma and enclosed within square brackets."
   ]
  },
  {
   "cell_type": "code",
   "execution_count": 1,
   "metadata": {
    "colab": {
     "base_uri": "https://localhost:8080/",
     "height": 36
    },
    "id": "j1Xlj9Tb47FG",
    "outputId": "c1238acf-21d3-4f94-b5bf-536027325ab8",
    "pycharm": {
     "name": "#%%\n"
    }
   },
   "outputs": [
    {
     "data": {
      "text/plain": [
       "'pear'"
      ]
     },
     "execution_count": 1,
     "metadata": {},
     "output_type": "execute_result"
    }
   ],
   "source": [
    "fruits = ['orange', 'apple', 'pear', 'banana', 'kiwi', 'apple', 'banana']\n",
    "fruits.count('apple')\n",
    "fruits.count('tangerine')\n",
    "fruits.index('banana')\n",
    "fruits.index('banana', 4)\n",
    "fruits.reverse()\n",
    "fruits\n",
    "fruits.append('grape')\n",
    "fruits\n",
    "fruits.sort()\n",
    "fruits\n",
    "fruits.pop()\n"
   ]
  },
  {
   "cell_type": "markdown",
   "metadata": {
    "id": "ol8NpgVh7Pcw",
    "pycharm": {
     "name": "#%% md\n"
    }
   },
   "source": [
    "the block above creates a list of fruits and applies some list operations by calling the operation's corresponding method.\n",
    "* `count('apple')` returns the counted number of times `apple` occurs in `fruits`.\n",
    "* count('tangerine') does the same operation as `count('apple')` but it returns *0* since `fruits` does not contain `tangerine`\n",
    "* `index('banana')` returns the zero-based index of the first `banana` item starting from the beginning of the `fruits`.\n",
    "* `index('banana',4)` returns the zero-based index of the first `banana` item by beginning the index search from index 4.\n",
    "* `reverse()` reverses the items in `fruits` and replaces the value of fruits with the new reversed items.\n",
    "* `append('grape')` adds grape to the end of the list (fruits) thereby increasing the size of the fruits by 1\n",
    "* `sort()` sorts the items in fruits in ascending alphabetical order.This is because no sorting criteria is passed to the `key` parameter so it defaults to alphabetical ordering (since `fruits` contains only strings). The default value of the `reverse` parameter is False hence the sorting is done in ascending order. `fruits` is replace is with new sorted list after the operation.\n",
    "* `pop()` removes and returns the last item in `fruits` thereby decreasing the length of `fruits` by 1\n",
    "\n",
    "\n",
    "\n",
    "\n"
   ]
  },
  {
   "cell_type": "markdown",
   "metadata": {
    "id": "YogxqBNgBLq0",
    "pycharm": {
     "name": "#%% md\n"
    }
   },
   "source": [
    "### Using Lists as Stacks\n",
    "A stack is basically a last-in first-out data structure."
   ]
  },
  {
   "cell_type": "code",
   "execution_count": 2,
   "metadata": {
    "colab": {
     "base_uri": "https://localhost:8080/"
    },
    "id": "_VJuwdjP-eJ9",
    "outputId": "ea5df45c-f34b-4f0d-eacc-0b224ec5033d",
    "pycharm": {
     "name": "#%%\n"
    }
   },
   "outputs": [
    {
     "data": {
      "text/plain": [
       "[3, 4]"
      ]
     },
     "execution_count": 2,
     "metadata": {},
     "output_type": "execute_result"
    }
   ],
   "source": [
    "stack = [3, 4, 5]\n",
    "stack.append(6)\n",
    "stack.append(7)\n",
    "stack\n",
    "stack.pop()\n",
    "stack\n",
    "stack.pop()\n",
    "stack.pop()\n",
    "stack"
   ]
  },
  {
   "cell_type": "markdown",
   "metadata": {
    "id": "51QKvzCnCxsF",
    "pycharm": {
     "name": "#%% md\n"
    }
   },
   "source": [
    "* `append(6)` adds 6 to end of the list and returns nothing.It increase the size of the the list by 1.\n",
    "* `append(7)`  same as `append(6)`\n",
    "* `pop()` removes and returns the last item in `stack` thereby decreasing the length of `fruits` by 1. Since `pop()` is called 3 times, the *last 3* items of stack are removed"
   ]
  },
  {
   "cell_type": "markdown",
   "metadata": {
    "id": "q3luJHdOPjRY",
    "pycharm": {
     "name": "#%% md\n"
    }
   },
   "source": [
    "### Using List as Queues\n",
    "A queue is basically a first-in first-out data structure."
   ]
  },
  {
   "cell_type": "code",
   "execution_count": 3,
   "metadata": {
    "colab": {
     "base_uri": "https://localhost:8080/"
    },
    "id": "XDZ3Kw5hQHpw",
    "outputId": "cee1272d-a54a-4b50-c48a-b6b3f0895eae",
    "pycharm": {
     "name": "#%%\n"
    }
   },
   "outputs": [
    {
     "data": {
      "text/plain": [
       "deque(['Michael', 'Terry', 'Graham'])"
      ]
     },
     "execution_count": 3,
     "metadata": {},
     "output_type": "execute_result"
    }
   ],
   "source": [
    "from collections import deque\n",
    "\n",
    "queue = deque(['Eric', 'John', 'Michael'])\n",
    "queue.append('Terry')\n",
    "queue.append('Graham')\n",
    "queue\n",
    "queue.popleft()\n",
    "queue\n",
    "queue.popleft()\n",
    "queue\n"
   ]
  },
  {
   "cell_type": "markdown",
   "metadata": {
    "id": "FAqemgi5REqC",
    "pycharm": {
     "name": "#%% md\n"
    }
   },
   "source": [
    "* the deque class imported from the collections package provides a fast insertion and pops from the beginning of the list.\n",
    "* each `append()` adds the argument passed to end of the list and returns nothing.It increase the size of the the list by 1.\n",
    "* `popleft()` removes and returns the first element from the beginning of the list. It also decreases the length of the list by 1.\n",
    "* Since `popleft()` is called twice, the first item, `Eric` is first removed, afterward the first item of the remaining items (`John`) is also removed.\n",
    "* the remaining items are then `Michael, Terry and Graham`"
   ]
  },
  {
   "cell_type": "markdown",
   "metadata": {
    "id": "83KbyuPGUQQF",
    "pycharm": {
     "name": "#%% md\n"
    }
   },
   "source": [
    "### List Comprehension"
   ]
  },
  {
   "cell_type": "code",
   "execution_count": 4,
   "metadata": {
    "colab": {
     "base_uri": "https://localhost:8080/"
    },
    "id": "McpB1znSVFXx",
    "outputId": "c3aee64c-a22c-4f94-96b6-dfb6c0a91a88",
    "pycharm": {
     "name": "#%%\n"
    }
   },
   "outputs": [
    {
     "data": {
      "text/plain": [
       "[0, 1, 4, 9, 16, 25, 36, 49, 64, 81]"
      ]
     },
     "execution_count": 4,
     "metadata": {},
     "output_type": "execute_result"
    }
   ],
   "source": [
    "squares = []\n",
    "for x in range(10):\n",
    "    squares.append(x ** 2)\n",
    "squares"
   ]
  },
  {
   "cell_type": "markdown",
   "metadata": {
    "id": "i35Vd6ugVV4G",
    "pycharm": {
     "name": "#%% md\n"
    }
   },
   "source": [
    "* this block uses a for loop to create a list of the square of numbers from 0 to 9.\n",
    "* the drawback of this method is that the variable `x` overrides previous variables which were declared with the same name `x`\n",
    "This behaviour may not be required in certain applications.\n",
    "Hence another approach where `x` is not available to the outer scop is shown below."
   ]
  },
  {
   "cell_type": "code",
   "execution_count": 5,
   "metadata": {
    "colab": {
     "base_uri": "https://localhost:8080/"
    },
    "id": "XReGgdRlWmF4",
    "outputId": "be10aed5-7dc1-48b9-d5f4-547c2949793e",
    "pycharm": {
     "name": "#%%\n"
    }
   },
   "outputs": [],
   "source": [
    "x = 5\n",
    "squares = [x ** 2 for x in range(10)]"
   ]
  },
  {
   "cell_type": "markdown",
   "metadata": {
    "id": "cBQ03nOXXHqt",
    "pycharm": {
     "name": "#%% md\n"
    }
   },
   "source": [
    "Though `x` has been reassinged in the for loop, this does not affet the outer scope `x` , hence the value of `5` is still retained."
   ]
  },
  {
   "cell_type": "code",
   "execution_count": 6,
   "metadata": {
    "colab": {
     "base_uri": "https://localhost:8080/"
    },
    "id": "O7ZsFr5WG19v",
    "outputId": "06e5ec3a-d1dc-45ef-afdf-920b6ff5d661",
    "pycharm": {
     "name": "#%%\n"
    }
   },
   "outputs": [
    {
     "data": {
      "text/plain": [
       "[(1, 3), (1, 4), (2, 3), (2, 1), (2, 4), (3, 1), (3, 4)]"
      ]
     },
     "execution_count": 6,
     "metadata": {},
     "output_type": "execute_result"
    }
   ],
   "source": [
    "[(x, y) for x in [1, 2, 3] for y in [3, 1, 4] if x != y]"
   ]
  },
  {
   "cell_type": "markdown",
   "metadata": {
    "id": "ib7U1kuvHIxO",
    "pycharm": {
     "name": "#%% md\n"
    }
   },
   "source": [
    "The above block create a list containing tuples.\n",
    "The `second for loop` is nested in the `first for loop`, the value of `x` and `y` are made into a tuple and appended to the list only when the `if` statement is `true`"
   ]
  },
  {
   "cell_type": "code",
   "execution_count": 7,
   "metadata": {
    "colab": {
     "base_uri": "https://localhost:8080/"
    },
    "id": "rbh9xBuXIIRN",
    "outputId": "be3d55bf-dfd9-4052-a8e0-682880fefb6d",
    "pycharm": {
     "name": "#%%\n"
    }
   },
   "outputs": [
    {
     "data": {
      "text/plain": [
       "[(1, 3), (1, 4), (2, 3), (2, 1), (2, 4), (3, 1), (3, 4)]"
      ]
     },
     "execution_count": 7,
     "metadata": {},
     "output_type": "execute_result"
    }
   ],
   "source": [
    "combs = []\n",
    "for x in [1, 2, 3]:\n",
    "    for y in [3, 1, 4]:\n",
    "        if x != y:\n",
    "            combs.append((x, y))\n",
    "combs"
   ]
  },
  {
   "cell_type": "markdown",
   "metadata": {
    "id": "TfO-_1SLIu0c",
    "pycharm": {
     "name": "#%% md\n"
    }
   },
   "source": [
    "This block performs the same function as the previous."
   ]
  },
  {
   "cell_type": "markdown",
   "metadata": {
    "id": "f5CzMsNnJZM7",
    "pycharm": {
     "name": "#%% md\n"
    }
   },
   "source": [
    "**Tuples must be parenthesized**"
   ]
  },
  {
   "cell_type": "code",
   "execution_count": 8,
   "metadata": {
    "colab": {
     "base_uri": "https://localhost:8080/"
    },
    "id": "i7PwkrfkJU3Z",
    "outputId": "38ebd3dc-280b-4f61-b56d-db422957bdbd",
    "pycharm": {
     "name": "#%%\n"
    }
   },
   "outputs": [
    {
     "data": {
      "text/plain": [
       "[1, 2, 3, 4, 5, 6, 7, 8, 9]"
      ]
     },
     "execution_count": 8,
     "metadata": {},
     "output_type": "execute_result"
    }
   ],
   "source": [
    "vec = [-4, -2, 0, 2, 4]\n",
    "[x * 2 for x in vec]\n",
    "[x for x in vec if x >= 0]\n",
    "[abs(x) for x in vec]\n",
    "freshfruit = [' banana', ' loganberry ', 'passion fruit  ']\n",
    "[weapon.strip() for weapon in freshfruit]\n",
    "[(x, x ** 2) for x in range(6)]\n",
    "vec = [[1, 2, 3], [4, 5, 6], [7, 8, 9]]\n",
    "[num for elem in vec for num in elem]"
   ]
  },
  {
   "cell_type": "markdown",
   "metadata": {
    "id": "YS900T14JqrJ",
    "pycharm": {
     "name": "#%% md\n"
    }
   },
   "source": [
    "A list containing numbers is created.\n",
    "* Line 2 creates a new list from `vec` by squaring each item in `vec`\n",
    "* Line 3 created a new list from `vec` by excluding negative numbers\n",
    "* Line 4 calculates the absolute value of each item in `vec` by using the `abs()` function. The results is put into a new list\n",
    "* Line 6 removes leading and trailing whitespaces from each word in `freshfruits` and puts the results in a new list.\n",
    "* Line 7 create a tuple of each number from 0 to 5 and and the square of that number, All the tuples are then placed in a list.\n",
    "* vec is reinitialized to be a a nested list\n",
    "* The line after renitialization  flattens `vec` into a new list by using a `nested for loop`\n",
    "\n",
    "\n"
   ]
  },
  {
   "cell_type": "code",
   "execution_count": 9,
   "metadata": {
    "colab": {
     "base_uri": "https://localhost:8080/"
    },
    "id": "whJKSNQxcts5",
    "outputId": "dc3620f7-0abf-462f-f6d0-b38655493f1f",
    "pycharm": {
     "name": "#%%\n"
    }
   },
   "outputs": [
    {
     "data": {
      "text/plain": [
       "['3.1', '3.14', '3.142', '3.1416', '3.14159']"
      ]
     },
     "execution_count": 9,
     "metadata": {},
     "output_type": "execute_result"
    }
   ],
   "source": [
    "from math import pi\n",
    "\n",
    "[str(round(pi, i)) for i in range(1, 6)]"
   ]
  },
  {
   "cell_type": "markdown",
   "metadata": {
    "id": "iMu53bJEdHeT",
    "pycharm": {
     "name": "#%% md\n"
    }
   },
   "source": [
    "A nested function call is used on each number from `1 to 5`\n",
    "First pi is rounded to i (1,2,3,4 or 5) decimal places using the `round` function and then the results is converted to a string using `str()`.\n",
    "All the strings are then put into a list"
   ]
  },
  {
   "cell_type": "markdown",
   "metadata": {
    "id": "Ic6yS6Wkec8X",
    "pycharm": {
     "name": "#%% md\n"
    }
   },
   "source": [
    "### Nested Comprehensions"
   ]
  },
  {
   "cell_type": "code",
   "execution_count": 10,
   "metadata": {
    "id": "okFbnXRQezoC",
    "pycharm": {
     "name": "#%%\n"
    }
   },
   "outputs": [],
   "source": [
    "matrix = [\n",
    "    [1, 2, 3, 4],\n",
    "    [5, 6, 7, 8],\n",
    "    [9, 10, 11, 12]\n",
    "]"
   ]
  },
  {
   "cell_type": "markdown",
   "metadata": {
    "id": "nOz4PzAge8n2",
    "pycharm": {
     "name": "#%% md\n"
    }
   },
   "source": [
    "This represents an implementation of a 3 by 4 matrix"
   ]
  },
  {
   "cell_type": "code",
   "execution_count": 11,
   "metadata": {
    "colab": {
     "base_uri": "https://localhost:8080/"
    },
    "id": "mg4hZ3-Cfypy",
    "outputId": "0c8483a5-9e01-49ab-9d89-1047b4eb35f1",
    "pycharm": {
     "name": "#%%\n"
    }
   },
   "outputs": [
    {
     "data": {
      "text/plain": [
       "[[1, 5, 9], [2, 6, 10], [3, 7, 11], [4, 8, 12]]"
      ]
     },
     "execution_count": 11,
     "metadata": {},
     "output_type": "execute_result"
    }
   ],
   "source": [
    "transposed = []\n",
    "for i in range(4):\n",
    "    transposed.append([row[i] for row in matrix])\n",
    "transposed"
   ]
  },
  {
   "cell_type": "markdown",
   "metadata": {
    "id": "8uUOTLnXgxIB",
    "pycharm": {
     "name": "#%% md\n"
    }
   },
   "source": [
    "The above code block creates a list from each column of `matrix`, it then appends the list to `transposed`.\n",
    "The process is repeated 3 time by the `for i in range(4)`.\n",
    "The resulting `transposed` values is the transpose of `matrix`"
   ]
  },
  {
   "cell_type": "code",
   "execution_count": 12,
   "metadata": {
    "colab": {
     "base_uri": "https://localhost:8080/"
    },
    "id": "7-M46Sz6hqRG",
    "outputId": "980c34f0-752b-4ff1-b98e-9affea89b597",
    "pycharm": {
     "name": "#%%\n"
    }
   },
   "outputs": [
    {
     "data": {
      "text/plain": [
       "[(1, 5, 9), (2, 6, 10), (3, 7, 11), (4, 8, 12)]"
      ]
     },
     "execution_count": 12,
     "metadata": {},
     "output_type": "execute_result"
    }
   ],
   "source": [
    "list(zip(*matrix))"
   ]
  },
  {
   "cell_type": "markdown",
   "metadata": {
    "id": "ryN28WVtiJrU",
    "pycharm": {
     "name": "#%% md\n"
    }
   },
   "source": [
    "### The del statement\n",
    "The Python del keyword is used to delete objects."
   ]
  },
  {
   "cell_type": "code",
   "execution_count": 13,
   "metadata": {
    "colab": {
     "base_uri": "https://localhost:8080/"
    },
    "id": "nUBGBpnyicVY",
    "outputId": "04510d7b-4016-41ee-d37c-8701f2ce6e7f",
    "pycharm": {
     "name": "#%%\n"
    }
   },
   "outputs": [],
   "source": [
    "a = [-1, 1, 66.25, 333, 333, 1234.5]\n",
    "del a[0]\n",
    "a\n",
    "del a[2:4]\n",
    "a\n",
    "del a[:]\n",
    "a\n",
    "del a"
   ]
  },
  {
   "cell_type": "markdown",
   "metadata": {
    "id": "Ot7jN61CjeTP",
    "pycharm": {
     "name": "#%% md\n"
    }
   },
   "source": [
    "* `del a[0]` deletes the element at `a[index]` from `a`\n",
    "* `del a[2:4]` deletes the elements at index 2 and 3 from list `a`\n",
    "* `del a[:]` deletes all elements from `a` since `a` contains only 1 row with multiple columns\n",
    "* `del a` deletes the entire variable `a`"
   ]
  },
  {
   "cell_type": "markdown",
   "metadata": {
    "id": "3-4w6NWilFfo",
    "pycharm": {
     "name": "#%% md\n"
    }
   },
   "source": [
    "### Tuples and Sequences\n",
    "A sequence is an ordered list of elements.\n",
    " A tuple is also an ordered list of elements, and it also may include repeat elements. The difference between sequences and tuples is that tuples have a finite number of elements necessarily, while sequences might have finite or infinite elements."
   ]
  },
  {
   "cell_type": "code",
   "execution_count": 14,
   "metadata": {
    "colab": {
     "base_uri": "https://localhost:8080/"
    },
    "id": "uI3EyxmXlbd5",
    "outputId": "d4f7766d-0d35-4fb7-f5e8-4f7ea5277c5d",
    "pycharm": {
     "name": "#%%\n"
    }
   },
   "outputs": [
    {
     "ename": "TypeError",
     "evalue": "'tuple' object does not support item assignment",
     "output_type": "error",
     "traceback": [
      "\u001b[1;31m---------------------------------------------------------------------------\u001b[0m",
      "\u001b[1;31mTypeError\u001b[0m                                 Traceback (most recent call last)",
      "Input \u001b[1;32mIn [14]\u001b[0m, in \u001b[0;36m<cell line: 6>\u001b[1;34m()\u001b[0m\n\u001b[0;32m      4\u001b[0m u \u001b[38;5;241m=\u001b[39m t, (\u001b[38;5;241m1\u001b[39m, \u001b[38;5;241m2\u001b[39m, \u001b[38;5;241m3\u001b[39m, \u001b[38;5;241m4\u001b[39m, \u001b[38;5;241m5\u001b[39m)\n\u001b[0;32m      5\u001b[0m u\n\u001b[1;32m----> 6\u001b[0m t[\u001b[38;5;241m0\u001b[39m] \u001b[38;5;241m=\u001b[39m \u001b[38;5;241m88888\u001b[39m\n\u001b[0;32m      7\u001b[0m v \u001b[38;5;241m=\u001b[39m ([\u001b[38;5;241m1\u001b[39m, \u001b[38;5;241m2\u001b[39m, \u001b[38;5;241m3\u001b[39m], [\u001b[38;5;241m3\u001b[39m, \u001b[38;5;241m2\u001b[39m, \u001b[38;5;241m1\u001b[39m])\n\u001b[0;32m      8\u001b[0m v\n",
      "\u001b[1;31mTypeError\u001b[0m: 'tuple' object does not support item assignment"
     ]
    }
   ],
   "source": [
    "t = 12345, 54321, 'hello!'\n",
    "t[0]\n",
    "t\n",
    "u = t, (1, 2, 3, 4, 5)\n",
    "u\n",
    "t[0] = 88888\n",
    "v = ([1, 2, 3], [3, 2, 1])\n",
    "v"
   ]
  },
  {
   "cell_type": "markdown",
   "metadata": {
    "id": "t3Lp6_OEloES",
    "pycharm": {
     "name": "#%% md\n"
    }
   },
   "source": [
    "The example above creates a tuple and stores it in variable `t`.\n",
    "`t[0]` is used to access the first item just like lists. This indicates that a member of a tuple can be retrieved using an index.\n",
    "\n",
    "The example above also demonstrates that a tuple can can contain other tuples. But it's important to know that a tuple is immutable, therefore the assignment of __8888__ to the first index of __t__ will result in an error."
   ]
  },
  {
   "cell_type": "code",
   "execution_count": null,
   "metadata": {
    "pycharm": {
     "name": "#%%\n"
    }
   },
   "outputs": [],
   "source": [
    "empty = ()\n",
    "singleton = 'hello',\n",
    "len(empty)\n",
    "len(singleton)\n",
    "singleton"
   ]
  },
  {
   "cell_type": "markdown",
   "metadata": {
    "pycharm": {
     "name": "#%% md\n"
    }
   },
   "source": [
    "The example above demonstrates that an empty tuple can be created using an opening and a closing parenthesis.\n",
    "A tuple can also be created without parenthesis but separating the contents with commas."
   ]
  },
  {
   "cell_type": "markdown",
   "metadata": {
    "pycharm": {
     "name": "#%% md\n"
    }
   },
   "source": [
    "## Sets\n",
    "A set is an unordered collection of unique objects."
   ]
  },
  {
   "cell_type": "code",
   "execution_count": null,
   "metadata": {
    "pycharm": {
     "name": "#%%\n"
    }
   },
   "outputs": [],
   "source": [
    "basket = {'apple', 'orange', 'apple', 'pear', 'orange', 'banana'}\n",
    "print(basket)\n",
    "'orange' in basket\n",
    "'crabgrass' in basket\n",
    "a = set('abracadabra')\n",
    "b = set('alacazam')\n",
    "a\n",
    "a - b\n",
    "a | b\n",
    "a & b\n",
    "a ^ b"
   ]
  },
  {
   "cell_type": "markdown",
   "metadata": {
    "pycharm": {
     "name": "#%% md\n"
    }
   },
   "source": [
    "The example above demonstrates how a set is created.\n",
    "It also demonstrates how to confirm the existence of an element in a set.\n",
    "Aside using curly braces to create a set, a set can be created using the function __Set()__.\n",
    "The example also demonstrates how different sets can be compared."
   ]
  },
  {
   "cell_type": "code",
   "execution_count": null,
   "metadata": {
    "pycharm": {
     "name": "#%%\n"
    }
   },
   "outputs": [],
   "source": [
    "a = {x for x in 'abracadabra' if x not in 'abc'}"
   ]
  },
  {
   "cell_type": "markdown",
   "metadata": {
    "pycharm": {
     "name": "#%% md\n"
    }
   },
   "source": [
    "The example above demonstrates that a set can also be created using comprehensions."
   ]
  },
  {
   "cell_type": "markdown",
   "metadata": {
    "pycharm": {
     "name": "#%% md\n"
    }
   },
   "source": [
    "## Dictionaries\n",
    "A dictionary consists of a collection of key-value pairs. Each key-value pair maps the key to its associated value.\n",
    "The keys of a dictionary are immutable, hence mutable objects cannot be used as keys of a dictionary."
   ]
  },
  {
   "cell_type": "code",
   "execution_count": null,
   "metadata": {
    "pycharm": {
     "name": "#%%\n"
    }
   },
   "outputs": [],
   "source": [
    "tel = {'jack': 4098, 'sape': 4139}\n",
    "tel['guido'] = 4127\n",
    "tel\n",
    "tel['jack']\n",
    "del tel['sape']\n",
    "tel['irv'] = 4127\n",
    "tel\n",
    "list(tel)\n",
    "sorted(tel)\n",
    "'guido' in tel\n",
    "'jack' not in tel"
   ]
  },
  {
   "cell_type": "markdown",
   "metadata": {
    "pycharm": {
     "name": "#%% md\n"
    }
   },
   "source": [
    "The example above demonstrates how a dictionary is created.\n",
    "It demonstrates how a value in a dictionary can be retrieved or modified using the keys.\n",
    "It shows how to delete an item in a dictionary can be deleted, and how a dictionary can be converted into a list.\n",
    "It's also possible to confirm the existence and in-existence of an object in a dictionary."
   ]
  },
  {
   "cell_type": "code",
   "execution_count": null,
   "metadata": {
    "pycharm": {
     "name": "#%%\n"
    }
   },
   "outputs": [],
   "source": [
    "dict([('sape', 4139), ('guido', 4127), ('jack', 4098)])"
   ]
  },
  {
   "cell_type": "markdown",
   "metadata": {
    "pycharm": {
     "name": "#%% md\n"
    }
   },
   "source": [
    "The dict() constructor builds dictionaries directly from sequences of key-value pairs"
   ]
  },
  {
   "cell_type": "markdown",
   "metadata": {
    "pycharm": {
     "name": "#%% md\n"
    }
   },
   "source": [
    "## Looping Techniques"
   ]
  },
  {
   "cell_type": "code",
   "execution_count": null,
   "metadata": {
    "pycharm": {
     "name": "#%%\n"
    }
   },
   "outputs": [],
   "source": [
    "knights = {'gallahad': 'the pure', 'robin': 'the brave'}\n",
    "\n",
    "for k, v in knights.items():\n",
    "    print(k, v)"
   ]
  },
  {
   "cell_type": "markdown",
   "metadata": {
    "pycharm": {
     "name": "#%% md\n"
    }
   },
   "source": [
    "The code sample abode demonstrates how the keys and values of a dictionary can be retrieved through a loop."
   ]
  },
  {
   "cell_type": "code",
   "execution_count": null,
   "metadata": {
    "pycharm": {
     "name": "#%%\n"
    }
   },
   "outputs": [],
   "source": [
    "for i, v in enumerate(['tic', 'tac', 'toe']):\n",
    "    print(i, v)"
   ]
  },
  {
   "cell_type": "markdown",
   "metadata": {
    "pycharm": {
     "name": "#%% md\n"
    }
   },
   "source": [
    "The Code sample above demonstrates that the index and the corresponding value of a sequence can be retrieved in a loop if the sequence is passed to the __enumerate__ function."
   ]
  },
  {
   "cell_type": "code",
   "execution_count": null,
   "metadata": {
    "pycharm": {
     "name": "#%%\n"
    }
   },
   "outputs": [],
   "source": [
    "questions = ['name', 'quest', 'favorite color']\n",
    "answers = ['lancelot', 'the holy grail', 'blue']\n",
    "\n",
    "for q, a in zip(questions, answers):\n",
    "    print('What is your {0}?  It is {1}.'.format(q, a))"
   ]
  },
  {
   "cell_type": "markdown",
   "metadata": {
    "pycharm": {
     "name": "#%% md\n"
    }
   },
   "source": [
    "The code sample above demonstrates how the __zip__ function can help to perform a single loop over multiple sequences."
   ]
  },
  {
   "cell_type": "code",
   "execution_count": null,
   "metadata": {
    "pycharm": {
     "name": "#%%\n"
    }
   },
   "outputs": [],
   "source": [
    "for i in reversed(range(1, 10, 2)):\n",
    "    print(i)"
   ]
  },
  {
   "cell_type": "markdown",
   "metadata": {
    "pycharm": {
     "name": "#%% md\n"
    }
   },
   "source": [
    "The __reversed__ function can be used to reverse a sequence."
   ]
  },
  {
   "cell_type": "code",
   "execution_count": null,
   "metadata": {
    "pycharm": {
     "name": "#%%\n"
    }
   },
   "outputs": [],
   "source": [
    "basket = ['apple', 'orange', 'apple', 'pear', 'orange', 'banana']\n",
    "\n",
    "for i in sorted(basket):\n",
    "    print(i)"
   ]
  },
  {
   "cell_type": "markdown",
   "metadata": {
    "pycharm": {
     "name": "#%% md\n"
    }
   },
   "source": [
    "The __sorted__ function can also be used to rearrange a sequence."
   ]
  },
  {
   "cell_type": "code",
   "execution_count": null,
   "metadata": {
    "pycharm": {
     "name": "#%%\n"
    }
   },
   "outputs": [],
   "source": [
    "basket = ['apple', 'orange', 'apple', 'pear', 'orange', 'banana']\n",
    "\n",
    "for f in sorted(set(basket)):\n",
    "    print(f)"
   ]
  },
  {
   "cell_type": "markdown",
   "metadata": {
    "pycharm": {
     "name": "#%% md\n"
    }
   },
   "source": [
    "A sequence can be converted into a set using the __Set__ function, then the __sorted__ function allows it to be possible to loop over the set."
   ]
  },
  {
   "cell_type": "code",
   "execution_count": null,
   "metadata": {
    "pycharm": {
     "name": "#%%\n"
    }
   },
   "outputs": [],
   "source": [
    "import math\n",
    "\n",
    "raw_data = [56.2, float('NaN'), 51.7, 55.3, 52.5, float('NaN'), 47.8]\n",
    "filtered_data = []\n",
    "\n",
    "for value in raw_data:\n",
    "    if not math.isnan(value):\n",
    "        filtered_data.append(value)\n",
    "\n",
    "filtered_data"
   ]
  },
  {
   "cell_type": "markdown",
   "metadata": {
    "pycharm": {
     "name": "#%% md\n"
    }
   },
   "source": [
    "While looping through a list, the values of the list can be modified if needed. However, the best practice is to create a new list of the modified values."
   ]
  }
 ],
 "metadata": {
  "colab": {
   "collapsed_sections": [],
   "name": "Data_Structures.ipynb",
   "provenance": []
  },
  "kernelspec": {
   "display_name": "Python 3 (ipykernel)",
   "language": "python",
   "name": "python3"
  },
  "language_info": {
   "codemirror_mode": {
    "name": "ipython",
    "version": 3
   },
   "file_extension": ".py",
   "mimetype": "text/x-python",
   "name": "python",
   "nbconvert_exporter": "python",
   "pygments_lexer": "ipython3",
   "version": "3.10.4"
  }
 },
 "nbformat": 4,
 "nbformat_minor": 1
}
